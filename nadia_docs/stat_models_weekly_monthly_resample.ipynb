{
 "cells": [
  {
   "cell_type": "code",
   "execution_count": 1,
   "id": "20526548",
   "metadata": {},
   "outputs": [],
   "source": [
    "import pandas as pd\n",
    "import wrangle as wr\n",
    "import summaries as s\n",
    "from importlib import reload\n",
    "import numpy as np\n",
    "from sklearn.preprocessing import OneHotEncoder, OrdinalEncoder, LabelEncoder\n",
    "from sklearn.metrics import mean_squared_error\n",
    "import statsmodels.api as sm\n",
    "# holt's linear trend model. \n",
    "from statsmodels.tsa.api import Holt, ExponentialSmoothing\n",
    "\n",
    "import warnings\n",
    "warnings.filterwarnings('ignore')\n",
    "\n",
    "import scipy.stats as stats\n",
    "\n",
    "import matplotlib.pyplot as plt\n",
    "import seaborn as sns\n",
    "plt.style.use(\"seaborn-whitegrid\")\n",
    "plt.rc(\n",
    "    \"figure\",\n",
    "    autolayout=True,\n",
    "    figsize=(11, 4),\n",
    "    titlesize=18,\n",
    "    titleweight='bold',\n",
    ")\n",
    "plt.rc(\n",
    "    \"axes\",\n",
    "    labelweight=\"bold\",\n",
    "    labelsize=\"large\",\n",
    "    titleweight=\"bold\",\n",
    "    titlesize=16,\n",
    "    titlepad=10,\n",
    ")\n",
    "%config InlineBackend.figure_format = 'retina'\n",
    "\n",
    "pd.options.display.float_format = '{:,.2f}'.format\n",
    "\n"
   ]
  },
  {
   "cell_type": "code",
   "execution_count": 2,
   "id": "5474a329",
   "metadata": {},
   "outputs": [],
   "source": [
    "df = wr.get_clean_data(start2018=True)\n",
    "sdf = s.get_summary_df(df)\n",
    "sdf = wr.add_date_features(sdf)"
   ]
  },
  {
   "cell_type": "code",
   "execution_count": 3,
   "id": "e29780b7",
   "metadata": {},
   "outputs": [],
   "source": [
    "train, test = wr.split_data(sdf)\n",
    "validate = test.loc[:'2022-06'].copy() \n",
    "test = test.loc['2022-07':]"
   ]
  },
  {
   "cell_type": "code",
   "execution_count": 4,
   "id": "ef89f3ec",
   "metadata": {},
   "outputs": [
    {
     "data": {
      "text/html": [
       "<div>\n",
       "<style scoped>\n",
       "    .dataframe tbody tr th:only-of-type {\n",
       "        vertical-align: middle;\n",
       "    }\n",
       "\n",
       "    .dataframe tbody tr th {\n",
       "        vertical-align: top;\n",
       "    }\n",
       "\n",
       "    .dataframe thead th {\n",
       "        text-align: right;\n",
       "    }\n",
       "</style>\n",
       "<table border=\"1\" class=\"dataframe\">\n",
       "  <thead>\n",
       "    <tr style=\"text-align: right;\">\n",
       "      <th></th>\n",
       "      <th>customer_name</th>\n",
       "      <th>customer_type</th>\n",
       "      <th>customer_city</th>\n",
       "      <th>reseller_name</th>\n",
       "      <th>shipped_date</th>\n",
       "      <th>purchase_amount</th>\n",
       "      <th>year</th>\n",
       "      <th>quarter</th>\n",
       "      <th>month</th>\n",
       "      <th>week</th>\n",
       "      <th>day_of_week</th>\n",
       "      <th>day_of_year</th>\n",
       "      <th>month_name</th>\n",
       "      <th>day_name</th>\n",
       "    </tr>\n",
       "    <tr>\n",
       "      <th>order_date</th>\n",
       "      <th></th>\n",
       "      <th></th>\n",
       "      <th></th>\n",
       "      <th></th>\n",
       "      <th></th>\n",
       "      <th></th>\n",
       "      <th></th>\n",
       "      <th></th>\n",
       "      <th></th>\n",
       "      <th></th>\n",
       "      <th></th>\n",
       "      <th></th>\n",
       "      <th></th>\n",
       "      <th></th>\n",
       "    </tr>\n",
       "  </thead>\n",
       "  <tbody>\n",
       "    <tr>\n",
       "      <th>2021-12-31</th>\n",
       "      <td>Houston TranStar</td>\n",
       "      <td>Local Government</td>\n",
       "      <td>Houston</td>\n",
       "      <td>Presidio Networked Solutions Group, LLC</td>\n",
       "      <td>2022-01-04</td>\n",
       "      <td>712.76</td>\n",
       "      <td>2021</td>\n",
       "      <td>4</td>\n",
       "      <td>12</td>\n",
       "      <td>52</td>\n",
       "      <td>4</td>\n",
       "      <td>365</td>\n",
       "      <td>December</td>\n",
       "      <td>Friday</td>\n",
       "    </tr>\n",
       "    <tr>\n",
       "      <th>2022-01-01</th>\n",
       "      <td>Teacher Retirement System of Texas</td>\n",
       "      <td>State Agency</td>\n",
       "      <td>Austin</td>\n",
       "      <td>Presidio Networked Solutions Group, LLC</td>\n",
       "      <td>2022-04-28</td>\n",
       "      <td>62,756.88</td>\n",
       "      <td>2022</td>\n",
       "      <td>1</td>\n",
       "      <td>1</td>\n",
       "      <td>52</td>\n",
       "      <td>5</td>\n",
       "      <td>1</td>\n",
       "      <td>January</td>\n",
       "      <td>Saturday</td>\n",
       "    </tr>\n",
       "  </tbody>\n",
       "</table>\n",
       "</div>"
      ],
      "text/plain": [
       "                                 customer_name     customer_type  \\\n",
       "order_date                                                         \n",
       "2021-12-31                    Houston TranStar  Local Government   \n",
       "2022-01-01  Teacher Retirement System of Texas      State Agency   \n",
       "\n",
       "           customer_city                            reseller_name  \\\n",
       "order_date                                                          \n",
       "2021-12-31       Houston  Presidio Networked Solutions Group, LLC   \n",
       "2022-01-01        Austin  Presidio Networked Solutions Group, LLC   \n",
       "\n",
       "           shipped_date  purchase_amount  year  quarter  month  week  \\\n",
       "order_date                                                             \n",
       "2021-12-31   2022-01-04           712.76  2021        4     12    52   \n",
       "2022-01-01   2022-04-28        62,756.88  2022        1      1    52   \n",
       "\n",
       "            day_of_week  day_of_year month_name  day_name  \n",
       "order_date                                                 \n",
       "2021-12-31            4          365   December    Friday  \n",
       "2022-01-01            5            1    January  Saturday  "
      ]
     },
     "execution_count": 4,
     "metadata": {},
     "output_type": "execute_result"
    }
   ],
   "source": [
    "pd.concat([train.tail(1), validate.head(1)])"
   ]
  },
  {
   "cell_type": "code",
   "execution_count": 5,
   "id": "f88bf490",
   "metadata": {},
   "outputs": [
    {
     "data": {
      "text/html": [
       "<div>\n",
       "<style scoped>\n",
       "    .dataframe tbody tr th:only-of-type {\n",
       "        vertical-align: middle;\n",
       "    }\n",
       "\n",
       "    .dataframe tbody tr th {\n",
       "        vertical-align: top;\n",
       "    }\n",
       "\n",
       "    .dataframe thead th {\n",
       "        text-align: right;\n",
       "    }\n",
       "</style>\n",
       "<table border=\"1\" class=\"dataframe\">\n",
       "  <thead>\n",
       "    <tr style=\"text-align: right;\">\n",
       "      <th></th>\n",
       "      <th>customer_name</th>\n",
       "      <th>customer_type</th>\n",
       "      <th>customer_city</th>\n",
       "      <th>reseller_name</th>\n",
       "      <th>shipped_date</th>\n",
       "      <th>purchase_amount</th>\n",
       "      <th>year</th>\n",
       "      <th>quarter</th>\n",
       "      <th>month</th>\n",
       "      <th>week</th>\n",
       "      <th>day_of_week</th>\n",
       "      <th>day_of_year</th>\n",
       "      <th>month_name</th>\n",
       "      <th>day_name</th>\n",
       "    </tr>\n",
       "    <tr>\n",
       "      <th>order_date</th>\n",
       "      <th></th>\n",
       "      <th></th>\n",
       "      <th></th>\n",
       "      <th></th>\n",
       "      <th></th>\n",
       "      <th></th>\n",
       "      <th></th>\n",
       "      <th></th>\n",
       "      <th></th>\n",
       "      <th></th>\n",
       "      <th></th>\n",
       "      <th></th>\n",
       "      <th></th>\n",
       "      <th></th>\n",
       "    </tr>\n",
       "  </thead>\n",
       "  <tbody>\n",
       "    <tr>\n",
       "      <th>2022-06-30</th>\n",
       "      <td>Travis County</td>\n",
       "      <td>Local Government</td>\n",
       "      <td>Austin</td>\n",
       "      <td>Netsync Network Solutions, Inc.</td>\n",
       "      <td>2022-07-31</td>\n",
       "      <td>33,530.00</td>\n",
       "      <td>2022</td>\n",
       "      <td>2</td>\n",
       "      <td>6</td>\n",
       "      <td>26</td>\n",
       "      <td>3</td>\n",
       "      <td>181</td>\n",
       "      <td>June</td>\n",
       "      <td>Thursday</td>\n",
       "    </tr>\n",
       "    <tr>\n",
       "      <th>2022-07-01</th>\n",
       "      <td>Austin Community College</td>\n",
       "      <td>Higher Ed</td>\n",
       "      <td>Austin</td>\n",
       "      <td>Presidio Networked Solutions Group, LLC</td>\n",
       "      <td>2022-07-05</td>\n",
       "      <td>13,918.00</td>\n",
       "      <td>2022</td>\n",
       "      <td>3</td>\n",
       "      <td>7</td>\n",
       "      <td>26</td>\n",
       "      <td>4</td>\n",
       "      <td>182</td>\n",
       "      <td>July</td>\n",
       "      <td>Friday</td>\n",
       "    </tr>\n",
       "  </tbody>\n",
       "</table>\n",
       "</div>"
      ],
      "text/plain": [
       "                       customer_name     customer_type customer_city  \\\n",
       "order_date                                                             \n",
       "2022-06-30             Travis County  Local Government        Austin   \n",
       "2022-07-01  Austin Community College         Higher Ed        Austin   \n",
       "\n",
       "                                      reseller_name shipped_date  \\\n",
       "order_date                                                         \n",
       "2022-06-30          Netsync Network Solutions, Inc.   2022-07-31   \n",
       "2022-07-01  Presidio Networked Solutions Group, LLC   2022-07-05   \n",
       "\n",
       "            purchase_amount  year  quarter  month  week  day_of_week  \\\n",
       "order_date                                                             \n",
       "2022-06-30        33,530.00  2022        2      6    26            3   \n",
       "2022-07-01        13,918.00  2022        3      7    26            4   \n",
       "\n",
       "            day_of_year month_name  day_name  \n",
       "order_date                                    \n",
       "2022-06-30          181       June  Thursday  \n",
       "2022-07-01          182       July    Friday  "
      ]
     },
     "execution_count": 5,
     "metadata": {},
     "output_type": "execute_result"
    }
   ],
   "source": [
    "pd.concat([validate.tail(1), test.head(1)])"
   ]
  },
  {
   "cell_type": "markdown",
   "id": "9bb123a0",
   "metadata": {},
   "source": [
    "## Create time series with daily resampling"
   ]
  },
  {
   "cell_type": "code",
   "execution_count": 6,
   "id": "9a86f484",
   "metadata": {},
   "outputs": [],
   "source": [
    "X_train_ts = train.purchase_amount.copy().resample('W').sum()\n",
    "X_validate_ts = validate.purchase_amount.copy().resample('W').sum()\n",
    "X_test_ts = test.purchase_amount.copy().resample('W').sum()"
   ]
  },
  {
   "cell_type": "code",
   "execution_count": 7,
   "id": "8152b086",
   "metadata": {},
   "outputs": [],
   "source": [
    "X_train = X_train_ts.to_frame()\n",
    "X_validate = X_validate_ts.to_frame()\n",
    "X_test = X_test_ts.to_frame()"
   ]
  },
  {
   "cell_type": "code",
   "execution_count": 8,
   "id": "0f2a0fb3",
   "metadata": {},
   "outputs": [
    {
     "data": {
      "text/plain": [
       "True"
      ]
     },
     "execution_count": 8,
     "metadata": {},
     "output_type": "execute_result"
    }
   ],
   "source": [
    "X_validate.shape[0] == len(X_validate_ts)"
   ]
  },
  {
   "cell_type": "code",
   "execution_count": 9,
   "id": "eebcc3df",
   "metadata": {},
   "outputs": [],
   "source": [
    "scores = pd.DataFrame(columns=['model_name', 'train_score', 'validate_score'])"
   ]
  },
  {
   "cell_type": "code",
   "execution_count": 10,
   "id": "923b1fbb",
   "metadata": {},
   "outputs": [],
   "source": [
    "# back to mean!!! median's RMSE is very high\n",
    "baseline = X_train_ts.mean()"
   ]
  },
  {
   "cell_type": "code",
   "execution_count": 11,
   "id": "7357d4ea",
   "metadata": {},
   "outputs": [
    {
     "data": {
      "text/plain": [
       "4574450.593110048"
      ]
     },
     "execution_count": 11,
     "metadata": {},
     "output_type": "execute_result"
    }
   ],
   "source": [
    "baseline # weekly baseline = 4574450.59"
   ]
  },
  {
   "cell_type": "code",
   "execution_count": 12,
   "id": "6e4eb457",
   "metadata": {},
   "outputs": [],
   "source": [
    "def evaluate(target_name: str, model_name: str):\n",
    "    RMSE_train = round(np.sqrt(mean_squared_error(X_train[target_name], predictions_train[model_name])))\n",
    "    RMSE_validate = round(np.sqrt(mean_squared_error(X_validate[target_name], predictions_validate[model_name])))\n",
    "    scores.loc[len(scores)] = [model_name, RMSE_train, RMSE_validate]\n",
    "    \n",
    "    # plot\n",
    "    plt.figure(figsize = (12,4))\n",
    "    plt.plot(X_train[target_name], label='Train', linewidth=1)\n",
    "    plt.plot(X_validate[target_name], label='Validate', linewidth=1)\n",
    "    plt.plot(predictions_train[model_name], label=model_name + '_train')\n",
    "    plt.plot(predictions_validate[model_name], label=model_name + '_validate')\n",
    "    plt.title(target_name)\n",
    "    \n",
    "    print(target_name, '-- RMSE train: {:.0f}'.format(RMSE_train))\n",
    "    print(target_name, '-- RMSE validate: {:.0f}'.format(RMSE_validate))\n",
    "    plt.show()"
   ]
  },
  {
   "cell_type": "code",
   "execution_count": 13,
   "id": "3ff40cb9",
   "metadata": {},
   "outputs": [],
   "source": [
    "def evaluate_rmse(target_name: str, model_name: str):\n",
    "    RMSE_train = round(np.sqrt(mean_squared_error(X_train[target_name], predictions_train[model_name])))\n",
    "    RMSE_validate = round(np.sqrt(mean_squared_error(X_validate[target_name], predictions_validate[model_name])))\n",
    "    scores.loc[len(scores)] = [model_name, RMSE_train, RMSE_validate]\n",
    "    \n",
    "def plot_model(target_name: str, model_name: str):\n",
    "    plt.figure(figsize = (12,4))\n",
    "    plt.plot(X_train[target_name], label='Train', linewidth=1)\n",
    "    plt.plot(X_validate[target_name], label='Validate', linewidth=1)\n",
    "    plt.plot(predictions_train[model_name], label=model_name + '_train')\n",
    "    plt.plot(predictions_validate[model_name], label=model_name + '_validate')\n",
    "    plt.title(target_name)\n",
    "    \n",
    "    print(target_name, '-- RMSE train: {:.0f}'.format(RMSE_train))\n",
    "    print(target_name, '-- RMSE validate: {:.0f}'.format(RMSE_validate))\n",
    "    plt.show()"
   ]
  },
  {
   "cell_type": "code",
   "execution_count": 14,
   "id": "149083fa",
   "metadata": {},
   "outputs": [],
   "source": [
    "target = 'purchase_amount'"
   ]
  },
  {
   "cell_type": "code",
   "execution_count": 15,
   "id": "b71c3d51",
   "metadata": {},
   "outputs": [],
   "source": [
    "predictions_train = pd.DataFrame(index=X_train.index)\n",
    "predictions_validate = pd.DataFrame(index=X_validate.index)\n",
    "predictions_train['baseline'] = baseline\n",
    "predictions_validate['baseline'] = baseline"
   ]
  },
  {
   "cell_type": "code",
   "execution_count": 16,
   "id": "ea59f5fb",
   "metadata": {},
   "outputs": [
    {
     "name": "stdout",
     "output_type": "stream",
     "text": [
      "purchase_amount -- RMSE train: 2494618\n",
      "purchase_amount -- RMSE validate: 2446953\n"
     ]
    },
    {
     "data": {
      "image/png": "[encoded data removed]",
      "text/plain": [
       "<Figure size 864x288 with 1 Axes>"
      ]
     },
     "metadata": {
      "image/png": {
       "height": 280,
       "width": 856
      },
      "needs_background": "light"
     },
     "output_type": "display_data"
    }
   ],
   "source": [
    "evaluate(target_name='purchase_amount', model_name='baseline')"
   ]
  },
  {
   "cell_type": "code",
   "execution_count": 17,
   "id": "8ddba36b",
   "metadata": {},
   "outputs": [
    {
     "data": {
      "text/html": [
       "<div>\n",
       "<style scoped>\n",
       "    .dataframe tbody tr th:only-of-type {\n",
       "        vertical-align: middle;\n",
       "    }\n",
       "\n",
       "    .dataframe tbody tr th {\n",
       "        vertical-align: top;\n",
       "    }\n",
       "\n",
       "    .dataframe thead th {\n",
       "        text-align: right;\n",
       "    }\n",
       "</style>\n",
       "<table border=\"1\" class=\"dataframe\">\n",
       "  <thead>\n",
       "    <tr style=\"text-align: right;\">\n",
       "      <th></th>\n",
       "      <th>model_name</th>\n",
       "      <th>train_score</th>\n",
       "      <th>validate_score</th>\n",
       "    </tr>\n",
       "  </thead>\n",
       "  <tbody>\n",
       "    <tr>\n",
       "      <th>0</th>\n",
       "      <td>baseline</td>\n",
       "      <td>2494618</td>\n",
       "      <td>2446953</td>\n",
       "    </tr>\n",
       "  </tbody>\n",
       "</table>\n",
       "</div>"
      ],
      "text/plain": [
       "  model_name  train_score  validate_score\n",
       "0   baseline      2494618         2446953"
      ]
     },
     "execution_count": 17,
     "metadata": {},
     "output_type": "execute_result"
    }
   ],
   "source": [
    "scores"
   ]
  },
  {
   "cell_type": "markdown",
   "id": "069cc4d2",
   "metadata": {},
   "source": [
    "### Moving Average"
   ]
  },
  {
   "cell_type": "code",
   "execution_count": 18,
   "id": "45159f08",
   "metadata": {},
   "outputs": [],
   "source": [
    "def model_moving_average(span=3):\n",
    "    '''\n",
    "    Create moving averages statistical models.\n",
    "    Saves results to predictions_train and predictions_validate\n",
    "    Evaluate models and saves scores into scores data frame\n",
    "    \n",
    "    Parameters:\n",
    "        span: moving average period\n",
    "    '''\n",
    "    # assign the period for the moving average\n",
    "    span = span\n",
    "    # identify the model\n",
    "    model_name = 'Moving Average' + ' ' + str(span)\n",
    "    # create a baseline value of moving average\n",
    "    ma_baseline = round(X_train.purchase_amount.rolling(span).mean()[-1], 2)\n",
    "    \n",
    "    # rolling amounts to fill train and validate sets\n",
    "    rolling_amount_train = round(X_train.purchase_amount.rolling(span).mean(), 2).fillna(ma_baseline)\n",
    "    rolling_amount_validate = round(X_validate.purchase_amount.rolling(span).mean(), 2)\n",
    "    # slicing index to replace the indexes in the beginning of validation set with the last values of train set\n",
    "    temp_index = span - 1\n",
    "    # put rolling moving average values to the predictions train\n",
    "    predictions_train[model_name] = rolling_amount_train\n",
    "    # replace validate nulls with last values of train set\n",
    "    rolling_amount_validate[:temp_index] = predictions_train[model_name][-temp_index:].values\n",
    "    # put predictions into predictions validate\n",
    "    predictions_validate[model_name] = rolling_amount_validate\n",
    "    # evaluate and save results into scores data frame\n",
    "    evaluate_rmse(target, model_name)"
   ]
  },
  {
   "cell_type": "code",
   "execution_count": 19,
   "id": "16e3f46f",
   "metadata": {},
   "outputs": [],
   "source": [
    "for i in range(2, 28):\n",
    "    model_moving_average(i)"
   ]
  },
  {
   "cell_type": "code",
   "execution_count": 21,
   "id": "0e9f1de8",
   "metadata": {},
   "outputs": [],
   "source": [
    "def model_exponential_moving_average(span=3):\n",
    "    '''\n",
    "    Create exponential moving averages statistical models.\n",
    "    Saves results to predictions_train and predictions_validate\n",
    "    Evaluate models and saves scores into scores data frame\n",
    "    \n",
    "    Parameters:\n",
    "        span: moving average period\n",
    "    '''\n",
    "    # identify the model\n",
    "    model_name = 'Exp Moving Average' + ' ' + str(span)\n",
    "    predictions_train[model_name] = X_train.ewm(span=span).mean()\n",
    "    predictions_validate[model_name] = X_validate.ewm(span=span).mean()\n",
    "    evaluate_rmse(target, model_name)"
   ]
  },
  {
   "cell_type": "code",
   "execution_count": 22,
   "id": "764d314b",
   "metadata": {},
   "outputs": [],
   "source": [
    "for i in range(2, 53):\n",
    "    model_exponential_moving_average(i)"
   ]
  },
  {
   "cell_type": "code",
   "execution_count": 24,
   "id": "01b86a98",
   "metadata": {},
   "outputs": [
    {
     "data": {
      "text/html": [
       "<div>\n",
       "<style scoped>\n",
       "    .dataframe tbody tr th:only-of-type {\n",
       "        vertical-align: middle;\n",
       "    }\n",
       "\n",
       "    .dataframe tbody tr th {\n",
       "        vertical-align: top;\n",
       "    }\n",
       "\n",
       "    .dataframe thead th {\n",
       "        text-align: right;\n",
       "    }\n",
       "</style>\n",
       "<table border=\"1\" class=\"dataframe\">\n",
       "  <thead>\n",
       "    <tr style=\"text-align: right;\">\n",
       "      <th></th>\n",
       "      <th>model_name</th>\n",
       "      <th>train_score</th>\n",
       "      <th>validate_score</th>\n",
       "    </tr>\n",
       "  </thead>\n",
       "  <tbody>\n",
       "    <tr>\n",
       "      <th>27</th>\n",
       "      <td>Exp Moving Average 2</td>\n",
       "      <td>974547</td>\n",
       "      <td>886223</td>\n",
       "    </tr>\n",
       "    <tr>\n",
       "      <th>28</th>\n",
       "      <td>Exp Moving Average 3</td>\n",
       "      <td>1386983</td>\n",
       "      <td>1245077</td>\n",
       "    </tr>\n",
       "    <tr>\n",
       "      <th>29</th>\n",
       "      <td>Exp Moving Average 4</td>\n",
       "      <td>1614047</td>\n",
       "      <td>1435840</td>\n",
       "    </tr>\n",
       "    <tr>\n",
       "      <th>1</th>\n",
       "      <td>Moving Average 2</td>\n",
       "      <td>1642715</td>\n",
       "      <td>1638322</td>\n",
       "    </tr>\n",
       "    <tr>\n",
       "      <th>30</th>\n",
       "      <td>Exp Moving Average 5</td>\n",
       "      <td>1758132</td>\n",
       "      <td>1552727</td>\n",
       "    </tr>\n",
       "  </tbody>\n",
       "</table>\n",
       "</div>"
      ],
      "text/plain": [
       "              model_name  train_score  validate_score\n",
       "27  Exp Moving Average 2       974547          886223\n",
       "28  Exp Moving Average 3      1386983         1245077\n",
       "29  Exp Moving Average 4      1614047         1435840\n",
       "1       Moving Average 2      1642715         1638322\n",
       "30  Exp Moving Average 5      1758132         1552727"
      ]
     },
     "execution_count": 24,
     "metadata": {},
     "output_type": "execute_result"
    }
   ],
   "source": [
    "scores.sort_values(by='train_score').head()"
   ]
  },
  {
   "cell_type": "code",
   "execution_count": 25,
   "id": "c2d71c89",
   "metadata": {},
   "outputs": [
    {
     "data": {
      "text/plain": [
       "4.693925064671073"
      ]
     },
     "execution_count": 25,
     "metadata": {},
     "output_type": "execute_result"
    }
   ],
   "source": [
    "4_574_450.59 / 974_547 "
   ]
  },
  {
   "cell_type": "code",
   "execution_count": 26,
   "id": "b91d7ed7",
   "metadata": {},
   "outputs": [
    {
     "data": {
      "text/plain": [
       "21.304132175575646"
      ]
     },
     "execution_count": 26,
     "metadata": {},
     "output_type": "execute_result"
    }
   ],
   "source": [
    "974547 / 4574450.59 * 100"
   ]
  },
  {
   "cell_type": "markdown",
   "id": "69f1fa41",
   "metadata": {},
   "source": []
  },
  {
   "cell_type": "code",
   "execution_count": 59,
   "id": "999e9d82",
   "metadata": {},
   "outputs": [
    {
     "data": {
      "text/plain": [
       "19917920.290833335"
      ]
     },
     "execution_count": 59,
     "metadata": {},
     "output_type": "execute_result"
    }
   ],
   "source": [
    "X_train_ts = train.purchase_amount.copy().resample('M').sum()\n",
    "X_validate_ts = validate.purchase_amount.copy().resample('M').sum()\n",
    "X_test_ts = test.purchase_amount.copy().resample('M').sum()\n",
    "X_train = X_train_ts.to_frame()\n",
    "X_validate = X_validate_ts.to_frame()\n",
    "X_test = X_test_ts.to_frame()\n",
    "baseline = X_train_ts.mean()\n",
    "baseline"
   ]
  },
  {
   "cell_type": "code",
   "execution_count": 29,
   "id": "87e02985",
   "metadata": {},
   "outputs": [],
   "source": [
    "predictions_train = pd.DataFrame(index=X_train.index)\n",
    "predictions_validate = pd.DataFrame(index=X_validate.index)\n",
    "predictions_train['baseline'] = baseline\n",
    "predictions_validate['baseline'] = baseline"
   ]
  },
  {
   "cell_type": "code",
   "execution_count": 36,
   "id": "3f235f24",
   "metadata": {},
   "outputs": [],
   "source": [
    "scores = pd.DataFrame(columns=['model_name', 'train_score', 'validate_score'])"
   ]
  },
  {
   "cell_type": "code",
   "execution_count": 37,
   "id": "997e8658",
   "metadata": {},
   "outputs": [
    {
     "name": "stdout",
     "output_type": "stream",
     "text": [
      "purchase_amount -- RMSE train: 5981145\n",
      "purchase_amount -- RMSE validate: 5699593\n"
     ]
    },
    {
     "data": {
      "image/png": "[encoded data removed]",
      "text/plain": [
       "<Figure size 864x288 with 1 Axes>"
      ]
     },
     "metadata": {
      "image/png": {
       "height": 280,
       "width": 856
      },
      "needs_background": "light"
     },
     "output_type": "display_data"
    }
   ],
   "source": [
    "evaluate(target_name='purchase_amount', model_name='baseline')"
   ]
  },
  {
   "cell_type": "code",
   "execution_count": 38,
   "id": "ae921e21",
   "metadata": {},
   "outputs": [
    {
     "data": {
      "text/html": [
       "<div>\n",
       "<style scoped>\n",
       "    .dataframe tbody tr th:only-of-type {\n",
       "        vertical-align: middle;\n",
       "    }\n",
       "\n",
       "    .dataframe tbody tr th {\n",
       "        vertical-align: top;\n",
       "    }\n",
       "\n",
       "    .dataframe thead th {\n",
       "        text-align: right;\n",
       "    }\n",
       "</style>\n",
       "<table border=\"1\" class=\"dataframe\">\n",
       "  <thead>\n",
       "    <tr style=\"text-align: right;\">\n",
       "      <th></th>\n",
       "      <th>model_name</th>\n",
       "      <th>train_score</th>\n",
       "      <th>validate_score</th>\n",
       "    </tr>\n",
       "  </thead>\n",
       "  <tbody>\n",
       "    <tr>\n",
       "      <th>0</th>\n",
       "      <td>baseline</td>\n",
       "      <td>5981145</td>\n",
       "      <td>5699593</td>\n",
       "    </tr>\n",
       "  </tbody>\n",
       "</table>\n",
       "</div>"
      ],
      "text/plain": [
       "  model_name  train_score  validate_score\n",
       "0   baseline      5981145         5699593"
      ]
     },
     "execution_count": 38,
     "metadata": {},
     "output_type": "execute_result"
    }
   ],
   "source": [
    "scores"
   ]
  },
  {
   "cell_type": "code",
   "execution_count": 39,
   "id": "59de4742",
   "metadata": {},
   "outputs": [],
   "source": [
    "for i in range(2, 13):\n",
    "    model_exponential_moving_average(i)"
   ]
  },
  {
   "cell_type": "code",
   "execution_count": 44,
   "id": "2551815e",
   "metadata": {},
   "outputs": [
    {
     "data": {
      "text/html": [
       "<div>\n",
       "<style scoped>\n",
       "    .dataframe tbody tr th:only-of-type {\n",
       "        vertical-align: middle;\n",
       "    }\n",
       "\n",
       "    .dataframe tbody tr th {\n",
       "        vertical-align: top;\n",
       "    }\n",
       "\n",
       "    .dataframe thead th {\n",
       "        text-align: right;\n",
       "    }\n",
       "</style>\n",
       "<table border=\"1\" class=\"dataframe\">\n",
       "  <thead>\n",
       "    <tr style=\"text-align: right;\">\n",
       "      <th></th>\n",
       "      <th>model_name</th>\n",
       "      <th>train_score</th>\n",
       "      <th>validate_score</th>\n",
       "    </tr>\n",
       "  </thead>\n",
       "  <tbody>\n",
       "    <tr>\n",
       "      <th>1</th>\n",
       "      <td>Exp Moving Average 2</td>\n",
       "      <td>2223777</td>\n",
       "      <td>1311889</td>\n",
       "    </tr>\n",
       "    <tr>\n",
       "      <th>2</th>\n",
       "      <td>Exp Moving Average 3</td>\n",
       "      <td>3172940</td>\n",
       "      <td>1854885</td>\n",
       "    </tr>\n",
       "    <tr>\n",
       "      <th>3</th>\n",
       "      <td>Exp Moving Average 4</td>\n",
       "      <td>3708251</td>\n",
       "      <td>2149689</td>\n",
       "    </tr>\n",
       "    <tr>\n",
       "      <th>12</th>\n",
       "      <td>Moving Average 2</td>\n",
       "      <td>3735455</td>\n",
       "      <td>2818457</td>\n",
       "    </tr>\n",
       "    <tr>\n",
       "      <th>18</th>\n",
       "      <td>Moving Average 2</td>\n",
       "      <td>3735455</td>\n",
       "      <td>2818457</td>\n",
       "    </tr>\n",
       "  </tbody>\n",
       "</table>\n",
       "</div>"
      ],
      "text/plain": [
       "              model_name  train_score  validate_score\n",
       "1   Exp Moving Average 2      2223777         1311889\n",
       "2   Exp Moving Average 3      3172940         1854885\n",
       "3   Exp Moving Average 4      3708251         2149689\n",
       "12      Moving Average 2      3735455         2818457\n",
       "18      Moving Average 2      3735455         2818457"
      ]
     },
     "execution_count": 44,
     "metadata": {},
     "output_type": "execute_result"
    }
   ],
   "source": [
    "scores.sort_values(by='train_score').head()"
   ]
  },
  {
   "cell_type": "code",
   "execution_count": 42,
   "id": "186df1cc",
   "metadata": {},
   "outputs": [],
   "source": [
    "for i in range(2, 5):\n",
    "    model_moving_average(i)"
   ]
  },
  {
   "cell_type": "code",
   "execution_count": 43,
   "id": "7cedf8e7",
   "metadata": {},
   "outputs": [
    {
     "data": {
      "text/html": [
       "<div>\n",
       "<style scoped>\n",
       "    .dataframe tbody tr th:only-of-type {\n",
       "        vertical-align: middle;\n",
       "    }\n",
       "\n",
       "    .dataframe tbody tr th {\n",
       "        vertical-align: top;\n",
       "    }\n",
       "\n",
       "    .dataframe thead th {\n",
       "        text-align: right;\n",
       "    }\n",
       "</style>\n",
       "<table border=\"1\" class=\"dataframe\">\n",
       "  <thead>\n",
       "    <tr style=\"text-align: right;\">\n",
       "      <th></th>\n",
       "      <th>model_name</th>\n",
       "      <th>train_score</th>\n",
       "      <th>validate_score</th>\n",
       "    </tr>\n",
       "  </thead>\n",
       "  <tbody>\n",
       "    <tr>\n",
       "      <th>0</th>\n",
       "      <td>baseline</td>\n",
       "      <td>5981145</td>\n",
       "      <td>5699593</td>\n",
       "    </tr>\n",
       "    <tr>\n",
       "      <th>1</th>\n",
       "      <td>Exp Moving Average 2</td>\n",
       "      <td>2223777</td>\n",
       "      <td>1311889</td>\n",
       "    </tr>\n",
       "    <tr>\n",
       "      <th>2</th>\n",
       "      <td>Exp Moving Average 3</td>\n",
       "      <td>3172940</td>\n",
       "      <td>1854885</td>\n",
       "    </tr>\n",
       "    <tr>\n",
       "      <th>3</th>\n",
       "      <td>Exp Moving Average 4</td>\n",
       "      <td>3708251</td>\n",
       "      <td>2149689</td>\n",
       "    </tr>\n",
       "    <tr>\n",
       "      <th>4</th>\n",
       "      <td>Exp Moving Average 5</td>\n",
       "      <td>4053674</td>\n",
       "      <td>2334040</td>\n",
       "    </tr>\n",
       "    <tr>\n",
       "      <th>5</th>\n",
       "      <td>Exp Moving Average 6</td>\n",
       "      <td>4294722</td>\n",
       "      <td>2459952</td>\n",
       "    </tr>\n",
       "    <tr>\n",
       "      <th>6</th>\n",
       "      <td>Exp Moving Average 7</td>\n",
       "      <td>4472164</td>\n",
       "      <td>2551309</td>\n",
       "    </tr>\n",
       "    <tr>\n",
       "      <th>7</th>\n",
       "      <td>Exp Moving Average 8</td>\n",
       "      <td>4608137</td>\n",
       "      <td>2620575</td>\n",
       "    </tr>\n",
       "    <tr>\n",
       "      <th>8</th>\n",
       "      <td>Exp Moving Average 9</td>\n",
       "      <td>4715704</td>\n",
       "      <td>2674877</td>\n",
       "    </tr>\n",
       "    <tr>\n",
       "      <th>9</th>\n",
       "      <td>Exp Moving Average 10</td>\n",
       "      <td>4803043</td>\n",
       "      <td>2718582</td>\n",
       "    </tr>\n",
       "    <tr>\n",
       "      <th>10</th>\n",
       "      <td>Exp Moving Average 11</td>\n",
       "      <td>4875514</td>\n",
       "      <td>2754510</td>\n",
       "    </tr>\n",
       "    <tr>\n",
       "      <th>11</th>\n",
       "      <td>Exp Moving Average 12</td>\n",
       "      <td>4936760</td>\n",
       "      <td>2784563</td>\n",
       "    </tr>\n",
       "    <tr>\n",
       "      <th>12</th>\n",
       "      <td>Moving Average 2</td>\n",
       "      <td>3735455</td>\n",
       "      <td>2818457</td>\n",
       "    </tr>\n",
       "    <tr>\n",
       "      <th>13</th>\n",
       "      <td>Moving Average 3</td>\n",
       "      <td>4990019</td>\n",
       "      <td>3532674</td>\n",
       "    </tr>\n",
       "    <tr>\n",
       "      <th>14</th>\n",
       "      <td>Moving Average 4</td>\n",
       "      <td>5124450</td>\n",
       "      <td>5488060</td>\n",
       "    </tr>\n",
       "    <tr>\n",
       "      <th>15</th>\n",
       "      <td>Moving Average 5</td>\n",
       "      <td>5324701</td>\n",
       "      <td>7114032</td>\n",
       "    </tr>\n",
       "    <tr>\n",
       "      <th>16</th>\n",
       "      <td>Moving Average 6</td>\n",
       "      <td>5861619</td>\n",
       "      <td>8274983</td>\n",
       "    </tr>\n",
       "    <tr>\n",
       "      <th>17</th>\n",
       "      <td>Moving Average 7</td>\n",
       "      <td>5977666</td>\n",
       "      <td>9890875</td>\n",
       "    </tr>\n",
       "    <tr>\n",
       "      <th>18</th>\n",
       "      <td>Moving Average 2</td>\n",
       "      <td>3735455</td>\n",
       "      <td>2818457</td>\n",
       "    </tr>\n",
       "    <tr>\n",
       "      <th>19</th>\n",
       "      <td>Moving Average 3</td>\n",
       "      <td>4990019</td>\n",
       "      <td>3532674</td>\n",
       "    </tr>\n",
       "    <tr>\n",
       "      <th>20</th>\n",
       "      <td>Moving Average 4</td>\n",
       "      <td>5124450</td>\n",
       "      <td>5488060</td>\n",
       "    </tr>\n",
       "  </tbody>\n",
       "</table>\n",
       "</div>"
      ],
      "text/plain": [
       "               model_name  train_score  validate_score\n",
       "0                baseline      5981145         5699593\n",
       "1    Exp Moving Average 2      2223777         1311889\n",
       "2    Exp Moving Average 3      3172940         1854885\n",
       "3    Exp Moving Average 4      3708251         2149689\n",
       "4    Exp Moving Average 5      4053674         2334040\n",
       "5    Exp Moving Average 6      4294722         2459952\n",
       "6    Exp Moving Average 7      4472164         2551309\n",
       "7    Exp Moving Average 8      4608137         2620575\n",
       "8    Exp Moving Average 9      4715704         2674877\n",
       "9   Exp Moving Average 10      4803043         2718582\n",
       "10  Exp Moving Average 11      4875514         2754510\n",
       "11  Exp Moving Average 12      4936760         2784563\n",
       "12       Moving Average 2      3735455         2818457\n",
       "13       Moving Average 3      4990019         3532674\n",
       "14       Moving Average 4      5124450         5488060\n",
       "15       Moving Average 5      5324701         7114032\n",
       "16       Moving Average 6      5861619         8274983\n",
       "17       Moving Average 7      5977666         9890875\n",
       "18       Moving Average 2      3735455         2818457\n",
       "19       Moving Average 3      4990019         3532674\n",
       "20       Moving Average 4      5124450         5488060"
      ]
     },
     "execution_count": 43,
     "metadata": {},
     "output_type": "execute_result"
    }
   ],
   "source": [
    "scores"
   ]
  },
  {
   "cell_type": "code",
   "execution_count": 45,
   "id": "3139116a",
   "metadata": {},
   "outputs": [
    {
     "data": {
      "text/plain": [
       "37.179787482162695"
      ]
     },
     "execution_count": 45,
     "metadata": {},
     "output_type": "execute_result"
    }
   ],
   "source": [
    "2_223_777 / 5_981_145 * 100"
   ]
  },
  {
   "cell_type": "code",
   "execution_count": 47,
   "id": "cc05b6a2",
   "metadata": {},
   "outputs": [
    {
     "data": {
      "text/plain": [
       "23.017240002926524"
      ]
     },
     "execution_count": 47,
     "metadata": {},
     "output_type": "execute_result"
    }
   ],
   "source": [
    "1_311_889 / 5_699_593 * 100"
   ]
  },
  {
   "cell_type": "code",
   "execution_count": 57,
   "id": "cc7679d3",
   "metadata": {},
   "outputs": [
    {
     "data": {
      "text/html": [
       "<div>\n",
       "<style scoped>\n",
       "    .dataframe tbody tr th:only-of-type {\n",
       "        vertical-align: middle;\n",
       "    }\n",
       "\n",
       "    .dataframe tbody tr th {\n",
       "        vertical-align: top;\n",
       "    }\n",
       "\n",
       "    .dataframe thead th {\n",
       "        text-align: right;\n",
       "    }\n",
       "</style>\n",
       "<table border=\"1\" class=\"dataframe\">\n",
       "  <thead>\n",
       "    <tr style=\"text-align: right;\">\n",
       "      <th></th>\n",
       "      <th>purchase_amount</th>\n",
       "      <th>baseline</th>\n",
       "    </tr>\n",
       "    <tr>\n",
       "      <th>order_date</th>\n",
       "      <th></th>\n",
       "      <th></th>\n",
       "    </tr>\n",
       "  </thead>\n",
       "  <tbody>\n",
       "    <tr>\n",
       "      <th>2022-07-31</th>\n",
       "      <td>8,128,605.72</td>\n",
       "      <td>19,917,920.29</td>\n",
       "    </tr>\n",
       "    <tr>\n",
       "      <th>2022-08-31</th>\n",
       "      <td>9,833,182.11</td>\n",
       "      <td>19,917,920.29</td>\n",
       "    </tr>\n",
       "    <tr>\n",
       "      <th>2022-09-30</th>\n",
       "      <td>9,288,707.03</td>\n",
       "      <td>19,917,920.29</td>\n",
       "    </tr>\n",
       "    <tr>\n",
       "      <th>2022-10-31</th>\n",
       "      <td>8,535,507.27</td>\n",
       "      <td>19,917,920.29</td>\n",
       "    </tr>\n",
       "    <tr>\n",
       "      <th>2022-11-30</th>\n",
       "      <td>4,347,067.29</td>\n",
       "      <td>19,917,920.29</td>\n",
       "    </tr>\n",
       "  </tbody>\n",
       "</table>\n",
       "</div>"
      ],
      "text/plain": [
       "            purchase_amount      baseline\n",
       "order_date                               \n",
       "2022-07-31     8,128,605.72 19,917,920.29\n",
       "2022-08-31     9,833,182.11 19,917,920.29\n",
       "2022-09-30     9,288,707.03 19,917,920.29\n",
       "2022-10-31     8,535,507.27 19,917,920.29\n",
       "2022-11-30     4,347,067.29 19,917,920.29"
      ]
     },
     "execution_count": 57,
     "metadata": {},
     "output_type": "execute_result"
    }
   ],
   "source": [
    "X_test.ewm(span=2).mean()"
   ]
  },
  {
   "cell_type": "code",
   "execution_count": 58,
   "id": "dff06748",
   "metadata": {},
   "outputs": [
    {
     "data": {
      "text/plain": [
       "order_date\n",
       "2022-07-31    8,128,605.72\n",
       "2022-08-31   10,401,374.24\n",
       "2022-09-30    9,046,718.11\n",
       "2022-10-31    8,172,855.53\n",
       "2022-11-30    2,278,701.87\n",
       "Freq: M, Name: purchase_amount, dtype: float64"
      ]
     },
     "execution_count": 58,
     "metadata": {},
     "output_type": "execute_result"
    }
   ],
   "source": [
    "X_test.purchase_amount"
   ]
  },
  {
   "cell_type": "code",
   "execution_count": 60,
   "id": "6272cf59",
   "metadata": {
    "scrolled": true
   },
   "outputs": [
    {
     "data": {
      "text/plain": [
       "978882.2946276285"
      ]
     },
     "execution_count": 60,
     "metadata": {},
     "output_type": "execute_result"
    }
   ],
   "source": [
    "mean_squared_error(X_test.purchase_amount, X_test.ewm(span=2).mean()) ** 0.5"
   ]
  },
  {
   "cell_type": "code",
   "execution_count": 51,
   "id": "8f7442db",
   "metadata": {},
   "outputs": [],
   "source": [
    "X_test['baseline'] = baseline"
   ]
  },
  {
   "cell_type": "code",
   "execution_count": 52,
   "id": "19370851",
   "metadata": {},
   "outputs": [
    {
     "data": {
      "text/plain": [
       "12623978.74188867"
      ]
     },
     "execution_count": 52,
     "metadata": {},
     "output_type": "execute_result"
    }
   ],
   "source": [
    "mean_squared_error(X_test.purchase_amount, X_test.baseline) ** 0.5"
   ]
  },
  {
   "cell_type": "code",
   "execution_count": 53,
   "id": "6908083e",
   "metadata": {},
   "outputs": [
    {
     "data": {
      "text/plain": [
       "7.7541503369166795"
      ]
     },
     "execution_count": 53,
     "metadata": {},
     "output_type": "execute_result"
    }
   ],
   "source": [
    "978882.29 / 12623978.74 * 100"
   ]
  },
  {
   "cell_type": "code",
   "execution_count": 66,
   "id": "1e613ac3",
   "metadata": {},
   "outputs": [
    {
     "data": {
      "text/html": [
       "<div>\n",
       "<style scoped>\n",
       "    .dataframe tbody tr th:only-of-type {\n",
       "        vertical-align: middle;\n",
       "    }\n",
       "\n",
       "    .dataframe tbody tr th {\n",
       "        vertical-align: top;\n",
       "    }\n",
       "\n",
       "    .dataframe thead th {\n",
       "        text-align: right;\n",
       "    }\n",
       "</style>\n",
       "<table border=\"1\" class=\"dataframe\">\n",
       "  <thead>\n",
       "    <tr style=\"text-align: right;\">\n",
       "      <th></th>\n",
       "      <th>order_date</th>\n",
       "      <th>customer_name</th>\n",
       "      <th>customer_type</th>\n",
       "      <th>purchase_amount</th>\n",
       "    </tr>\n",
       "  </thead>\n",
       "  <tbody>\n",
       "    <tr>\n",
       "      <th>0</th>\n",
       "      <td>2018-01-08</td>\n",
       "      <td>Angelo State University</td>\n",
       "      <td>Higher Ed</td>\n",
       "      <td>0.00</td>\n",
       "    </tr>\n",
       "    <tr>\n",
       "      <th>1</th>\n",
       "      <td>2018-01-08</td>\n",
       "      <td>Austin Independent School District</td>\n",
       "      <td>K-12</td>\n",
       "      <td>45.00</td>\n",
       "    </tr>\n",
       "    <tr>\n",
       "      <th>2</th>\n",
       "      <td>2018-01-08</td>\n",
       "      <td>Beeville Independent School District</td>\n",
       "      <td>K-12</td>\n",
       "      <td>9,337.80</td>\n",
       "    </tr>\n",
       "    <tr>\n",
       "      <th>3</th>\n",
       "      <td>2018-01-08</td>\n",
       "      <td>Bexar County</td>\n",
       "      <td>Local Government</td>\n",
       "      <td>267,760.46</td>\n",
       "    </tr>\n",
       "    <tr>\n",
       "      <th>4</th>\n",
       "      <td>2018-01-08</td>\n",
       "      <td>Bexar Metro 9-1-1 Network District</td>\n",
       "      <td>Local Government</td>\n",
       "      <td>34,785.10</td>\n",
       "    </tr>\n",
       "    <tr>\n",
       "      <th>...</th>\n",
       "      <td>...</td>\n",
       "      <td>...</td>\n",
       "      <td>...</td>\n",
       "      <td>...</td>\n",
       "    </tr>\n",
       "    <tr>\n",
       "      <th>17233</th>\n",
       "      <td>2022-11-28</td>\n",
       "      <td>North Texas Municipal Water District</td>\n",
       "      <td>Local Government</td>\n",
       "      <td>45,833.74</td>\n",
       "    </tr>\n",
       "    <tr>\n",
       "      <th>17234</th>\n",
       "      <td>2022-11-28</td>\n",
       "      <td>Texas Commission on Environmental Quality</td>\n",
       "      <td>State Agency</td>\n",
       "      <td>720.28</td>\n",
       "    </tr>\n",
       "    <tr>\n",
       "      <th>17235</th>\n",
       "      <td>2022-11-28</td>\n",
       "      <td>Texas Department of Agriculture</td>\n",
       "      <td>State Agency</td>\n",
       "      <td>8,830.65</td>\n",
       "    </tr>\n",
       "    <tr>\n",
       "      <th>17236</th>\n",
       "      <td>2022-12-05</td>\n",
       "      <td>Montgomery County Emergency Communications Dis...</td>\n",
       "      <td>Local Government</td>\n",
       "      <td>1,376.48</td>\n",
       "    </tr>\n",
       "    <tr>\n",
       "      <th>17237</th>\n",
       "      <td>2022-12-05</td>\n",
       "      <td>Railroad Commission of Texas</td>\n",
       "      <td>State Agency</td>\n",
       "      <td>418.96</td>\n",
       "    </tr>\n",
       "  </tbody>\n",
       "</table>\n",
       "<p>17238 rows × 4 columns</p>\n",
       "</div>"
      ],
      "text/plain": [
       "      order_date                                      customer_name  \\\n",
       "0     2018-01-08                            Angelo State University   \n",
       "1     2018-01-08                 Austin Independent School District   \n",
       "2     2018-01-08               Beeville Independent School District   \n",
       "3     2018-01-08                                       Bexar County   \n",
       "4     2018-01-08                 Bexar Metro 9-1-1 Network District   \n",
       "...          ...                                                ...   \n",
       "17233 2022-11-28               North Texas Municipal Water District   \n",
       "17234 2022-11-28          Texas Commission on Environmental Quality   \n",
       "17235 2022-11-28                    Texas Department of Agriculture   \n",
       "17236 2022-12-05  Montgomery County Emergency Communications Dis...   \n",
       "17237 2022-12-05                       Railroad Commission of Texas   \n",
       "\n",
       "          customer_type  purchase_amount  \n",
       "0             Higher Ed             0.00  \n",
       "1                  K-12            45.00  \n",
       "2                  K-12         9,337.80  \n",
       "3      Local Government       267,760.46  \n",
       "4      Local Government        34,785.10  \n",
       "...                 ...              ...  \n",
       "17233  Local Government        45,833.74  \n",
       "17234      State Agency           720.28  \n",
       "17235      State Agency         8,830.65  \n",
       "17236  Local Government         1,376.48  \n",
       "17237      State Agency           418.96  \n",
       "\n",
       "[17238 rows x 4 columns]"
      ]
     },
     "execution_count": 66,
     "metadata": {},
     "output_type": "execute_result"
    }
   ],
   "source": [
    "# weekly group by\n",
    "df.groupby([pd.Grouper(freq='W-MON'),'customer_name', 'customer_type']).purchase_amount.sum().reset_index()"
   ]
  },
  {
   "cell_type": "code",
   "execution_count": 69,
   "id": "129479e0",
   "metadata": {},
   "outputs": [],
   "source": [
    "def weekly_summary_df(df):\n",
    "    '''\n",
    "    returns results of weekly sales per customer per week\n",
    "    '''\n",
    "    return df.groupby([pd.Grouper(freq='W-MON'),'customer_name', 'customer_type'])\\\n",
    "        .purchase_amount.sum().reset_index().set_index('order_date').sort_index()"
   ]
  },
  {
   "cell_type": "code",
   "execution_count": 70,
   "id": "99b8beff",
   "metadata": {},
   "outputs": [
    {
     "data": {
      "text/html": [
       "<div>\n",
       "<style scoped>\n",
       "    .dataframe tbody tr th:only-of-type {\n",
       "        vertical-align: middle;\n",
       "    }\n",
       "\n",
       "    .dataframe tbody tr th {\n",
       "        vertical-align: top;\n",
       "    }\n",
       "\n",
       "    .dataframe thead th {\n",
       "        text-align: right;\n",
       "    }\n",
       "</style>\n",
       "<table border=\"1\" class=\"dataframe\">\n",
       "  <thead>\n",
       "    <tr style=\"text-align: right;\">\n",
       "      <th></th>\n",
       "      <th>customer_name</th>\n",
       "      <th>customer_type</th>\n",
       "      <th>purchase_amount</th>\n",
       "    </tr>\n",
       "    <tr>\n",
       "      <th>order_date</th>\n",
       "      <th></th>\n",
       "      <th></th>\n",
       "      <th></th>\n",
       "    </tr>\n",
       "  </thead>\n",
       "  <tbody>\n",
       "    <tr>\n",
       "      <th>2018-01-08</th>\n",
       "      <td>Angelo State University</td>\n",
       "      <td>Higher Ed</td>\n",
       "      <td>0.00</td>\n",
       "    </tr>\n",
       "    <tr>\n",
       "      <th>2018-01-08</th>\n",
       "      <td>Austin Independent School District</td>\n",
       "      <td>K-12</td>\n",
       "      <td>45.00</td>\n",
       "    </tr>\n",
       "    <tr>\n",
       "      <th>2018-01-08</th>\n",
       "      <td>Beeville Independent School District</td>\n",
       "      <td>K-12</td>\n",
       "      <td>9,337.80</td>\n",
       "    </tr>\n",
       "    <tr>\n",
       "      <th>2018-01-08</th>\n",
       "      <td>Bexar County</td>\n",
       "      <td>Local Government</td>\n",
       "      <td>267,760.46</td>\n",
       "    </tr>\n",
       "    <tr>\n",
       "      <th>2018-01-08</th>\n",
       "      <td>Bexar Metro 9-1-1 Network District</td>\n",
       "      <td>Local Government</td>\n",
       "      <td>34,785.10</td>\n",
       "    </tr>\n",
       "    <tr>\n",
       "      <th>...</th>\n",
       "      <td>...</td>\n",
       "      <td>...</td>\n",
       "      <td>...</td>\n",
       "    </tr>\n",
       "    <tr>\n",
       "      <th>2022-11-28</th>\n",
       "      <td>North Texas Municipal Water District</td>\n",
       "      <td>Local Government</td>\n",
       "      <td>45,833.74</td>\n",
       "    </tr>\n",
       "    <tr>\n",
       "      <th>2022-11-28</th>\n",
       "      <td>Texas Commission on Environmental Quality</td>\n",
       "      <td>State Agency</td>\n",
       "      <td>720.28</td>\n",
       "    </tr>\n",
       "    <tr>\n",
       "      <th>2022-11-28</th>\n",
       "      <td>Texas Department of Agriculture</td>\n",
       "      <td>State Agency</td>\n",
       "      <td>8,830.65</td>\n",
       "    </tr>\n",
       "    <tr>\n",
       "      <th>2022-12-05</th>\n",
       "      <td>Montgomery County Emergency Communications Dis...</td>\n",
       "      <td>Local Government</td>\n",
       "      <td>1,376.48</td>\n",
       "    </tr>\n",
       "    <tr>\n",
       "      <th>2022-12-05</th>\n",
       "      <td>Railroad Commission of Texas</td>\n",
       "      <td>State Agency</td>\n",
       "      <td>418.96</td>\n",
       "    </tr>\n",
       "  </tbody>\n",
       "</table>\n",
       "<p>17238 rows × 3 columns</p>\n",
       "</div>"
      ],
      "text/plain": [
       "                                                customer_name  \\\n",
       "order_date                                                      \n",
       "2018-01-08                            Angelo State University   \n",
       "2018-01-08                 Austin Independent School District   \n",
       "2018-01-08               Beeville Independent School District   \n",
       "2018-01-08                                       Bexar County   \n",
       "2018-01-08                 Bexar Metro 9-1-1 Network District   \n",
       "...                                                       ...   \n",
       "2022-11-28               North Texas Municipal Water District   \n",
       "2022-11-28          Texas Commission on Environmental Quality   \n",
       "2022-11-28                    Texas Department of Agriculture   \n",
       "2022-12-05  Montgomery County Emergency Communications Dis...   \n",
       "2022-12-05                       Railroad Commission of Texas   \n",
       "\n",
       "               customer_type  purchase_amount  \n",
       "order_date                                     \n",
       "2018-01-08         Higher Ed             0.00  \n",
       "2018-01-08              K-12            45.00  \n",
       "2018-01-08              K-12         9,337.80  \n",
       "2018-01-08  Local Government       267,760.46  \n",
       "2018-01-08  Local Government        34,785.10  \n",
       "...                      ...              ...  \n",
       "2022-11-28  Local Government        45,833.74  \n",
       "2022-11-28      State Agency           720.28  \n",
       "2022-11-28      State Agency         8,830.65  \n",
       "2022-12-05  Local Government         1,376.48  \n",
       "2022-12-05      State Agency           418.96  \n",
       "\n",
       "[17238 rows x 3 columns]"
      ]
     },
     "execution_count": 70,
     "metadata": {},
     "output_type": "execute_result"
    }
   ],
   "source": [
    "weekly_summary_df(df)"
   ]
  }
 ],
 "metadata": {
  "kernelspec": {
   "display_name": "Python 3 (ipykernel)",
   "language": "python",
   "name": "python3"
  },
  "language_info": {
   "codemirror_mode": {
    "name": "ipython",
    "version": 3
   },
   "file_extension": ".py",
   "mimetype": "text/x-python",
   "name": "python",
   "nbconvert_exporter": "python",
   "pygments_lexer": "ipython3",
   "version": "3.9.12"
  }
 },
 "nbformat": 4,
 "nbformat_minor": 5
}
