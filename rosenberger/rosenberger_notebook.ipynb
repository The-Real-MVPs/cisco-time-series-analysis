{
 "cells": [
  {
   "cell_type": "code",
   "execution_count": 32,
   "id": "fcbed349-1f5f-4780-8f6e-33d17df73806",
   "metadata": {},
   "outputs": [],
   "source": [
    "import pandas as pd\n",
    "import numpy as np\n",
    "import seaborn as sns"
   ]
  },
  {
   "cell_type": "code",
   "execution_count": 48,
   "id": "0b0f8643-d333-4dae-953b-a001a25406a9",
   "metadata": {},
   "outputs": [
    {
     "ename": "FileNotFoundError",
     "evalue": "[Errno 2] No such file or directory: 'data/data.pickle'",
     "output_type": "error",
     "traceback": [
      "\u001b[0;31m---------------------------------------------------------------------------\u001b[0m",
      "\u001b[0;31mFileNotFoundError\u001b[0m                         Traceback (most recent call last)",
      "\u001b[0;32m/var/folders/hf/46l4fb0x1bj47kh2tdxlqp1h0000gn/T/ipykernel_9991/1831957253.py\u001b[0m in \u001b[0;36m<module>\u001b[0;34m\u001b[0m\n\u001b[0;32m----> 1\u001b[0;31m \u001b[0mdf\u001b[0m \u001b[0;34m=\u001b[0m \u001b[0mpd\u001b[0m\u001b[0;34m.\u001b[0m\u001b[0mread_pickle\u001b[0m\u001b[0;34m(\u001b[0m\u001b[0;34m'data/data.pickle'\u001b[0m\u001b[0;34m)\u001b[0m\u001b[0;34m\u001b[0m\u001b[0;34m\u001b[0m\u001b[0m\n\u001b[0m",
      "\u001b[0;32m~/.pyenv/versions/anaconda3-2022.10/lib/python3.9/site-packages/pandas/io/pickle.py\u001b[0m in \u001b[0;36mread_pickle\u001b[0;34m(filepath_or_buffer, compression, storage_options)\u001b[0m\n\u001b[1;32m    185\u001b[0m     \"\"\"  # noqa: E501\n\u001b[1;32m    186\u001b[0m     \u001b[0mexcs_to_catch\u001b[0m \u001b[0;34m=\u001b[0m \u001b[0;34m(\u001b[0m\u001b[0mAttributeError\u001b[0m\u001b[0;34m,\u001b[0m \u001b[0mImportError\u001b[0m\u001b[0;34m,\u001b[0m \u001b[0mModuleNotFoundError\u001b[0m\u001b[0;34m,\u001b[0m \u001b[0mTypeError\u001b[0m\u001b[0;34m)\u001b[0m\u001b[0;34m\u001b[0m\u001b[0;34m\u001b[0m\u001b[0m\n\u001b[0;32m--> 187\u001b[0;31m     with get_handle(\n\u001b[0m\u001b[1;32m    188\u001b[0m         \u001b[0mfilepath_or_buffer\u001b[0m\u001b[0;34m,\u001b[0m\u001b[0;34m\u001b[0m\u001b[0;34m\u001b[0m\u001b[0m\n\u001b[1;32m    189\u001b[0m         \u001b[0;34m\"rb\"\u001b[0m\u001b[0;34m,\u001b[0m\u001b[0;34m\u001b[0m\u001b[0;34m\u001b[0m\u001b[0m\n",
      "\u001b[0;32m~/.pyenv/versions/anaconda3-2022.10/lib/python3.9/site-packages/pandas/io/common.py\u001b[0m in \u001b[0;36mget_handle\u001b[0;34m(path_or_buf, mode, encoding, compression, memory_map, is_text, errors, storage_options)\u001b[0m\n\u001b[1;32m    793\u001b[0m         \u001b[0;32melse\u001b[0m\u001b[0;34m:\u001b[0m\u001b[0;34m\u001b[0m\u001b[0;34m\u001b[0m\u001b[0m\n\u001b[1;32m    794\u001b[0m             \u001b[0;31m# Binary mode\u001b[0m\u001b[0;34m\u001b[0m\u001b[0;34m\u001b[0m\u001b[0m\n\u001b[0;32m--> 795\u001b[0;31m             \u001b[0mhandle\u001b[0m \u001b[0;34m=\u001b[0m \u001b[0mopen\u001b[0m\u001b[0;34m(\u001b[0m\u001b[0mhandle\u001b[0m\u001b[0;34m,\u001b[0m \u001b[0mioargs\u001b[0m\u001b[0;34m.\u001b[0m\u001b[0mmode\u001b[0m\u001b[0;34m)\u001b[0m\u001b[0;34m\u001b[0m\u001b[0;34m\u001b[0m\u001b[0m\n\u001b[0m\u001b[1;32m    796\u001b[0m         \u001b[0mhandles\u001b[0m\u001b[0;34m.\u001b[0m\u001b[0mappend\u001b[0m\u001b[0;34m(\u001b[0m\u001b[0mhandle\u001b[0m\u001b[0;34m)\u001b[0m\u001b[0;34m\u001b[0m\u001b[0;34m\u001b[0m\u001b[0m\n\u001b[1;32m    797\u001b[0m \u001b[0;34m\u001b[0m\u001b[0m\n",
      "\u001b[0;31mFileNotFoundError\u001b[0m: [Errno 2] No such file or directory: 'data/data.pickle'"
     ]
    }
   ],
   "source": [
    "df = pd.read_pickle('data/data.pickle')"
   ]
  },
  {
   "cell_type": "code",
   "execution_count": 4,
   "id": "c436c5a5-523a-4967-8aa5-0fd1445ca25a",
   "metadata": {},
   "outputs": [
    {
     "data": {
      "text/html": [
       "<div>\n",
       "<style scoped>\n",
       "    .dataframe tbody tr th:only-of-type {\n",
       "        vertical-align: middle;\n",
       "    }\n",
       "\n",
       "    .dataframe tbody tr th {\n",
       "        vertical-align: top;\n",
       "    }\n",
       "\n",
       "    .dataframe thead th {\n",
       "        text-align: right;\n",
       "    }\n",
       "</style>\n",
       "<table border=\"1\" class=\"dataframe\">\n",
       "  <thead>\n",
       "    <tr style=\"text-align: right;\">\n",
       "      <th></th>\n",
       "      <th>fiscal_year</th>\n",
       "      <th>customer_name</th>\n",
       "      <th>vendor_name</th>\n",
       "      <th>purchase_amount</th>\n",
       "      <th>contract_number</th>\n",
       "      <th>rfo_description</th>\n",
       "      <th>rfo_number</th>\n",
       "      <th>customer_type</th>\n",
       "      <th>customer_contact</th>\n",
       "      <th>customer_address</th>\n",
       "      <th>...</th>\n",
       "      <th>po_number</th>\n",
       "      <th>order_date</th>\n",
       "      <th>shipped_date</th>\n",
       "      <th>dir_contract_mgr</th>\n",
       "      <th>contract_type</th>\n",
       "      <th>contract_subtype</th>\n",
       "      <th>contract_start_date</th>\n",
       "      <th>contract_end_date</th>\n",
       "      <th>contract_termination_date</th>\n",
       "      <th>sales_fact_number</th>\n",
       "    </tr>\n",
       "  </thead>\n",
       "  <tbody>\n",
       "    <tr>\n",
       "      <th>981291</th>\n",
       "      <td>2021</td>\n",
       "      <td>Texas Department of Public Safety</td>\n",
       "      <td>Cisco Systems, Inc.</td>\n",
       "      <td>2657.25</td>\n",
       "      <td>DIR-TSO-4167</td>\n",
       "      <td>Cisco Branded Products and Related Services</td>\n",
       "      <td>DIR-TSO-TMP-425</td>\n",
       "      <td>State Agency</td>\n",
       "      <td>Accounts Payable</td>\n",
       "      <td>Po Box 4087</td>\n",
       "      <td>...</td>\n",
       "      <td>21P0008145</td>\n",
       "      <td>03/02/2021</td>\n",
       "      <td>05/09/2021</td>\n",
       "      <td>Tiffanay Waller</td>\n",
       "      <td>Networking Equipment</td>\n",
       "      <td>Networking Equipment</td>\n",
       "      <td>07/03/2018</td>\n",
       "      <td>07/03/2022</td>\n",
       "      <td>07/03/2023</td>\n",
       "      <td>48674865</td>\n",
       "    </tr>\n",
       "    <tr>\n",
       "      <th>981292</th>\n",
       "      <td>2021</td>\n",
       "      <td>Texas Department of Public Safety</td>\n",
       "      <td>Cisco Systems, Inc.</td>\n",
       "      <td>3053.83</td>\n",
       "      <td>DIR-TSO-4167</td>\n",
       "      <td>Cisco Branded Products and Related Services</td>\n",
       "      <td>DIR-TSO-TMP-425</td>\n",
       "      <td>State Agency</td>\n",
       "      <td>Accounts Payable</td>\n",
       "      <td>Po Box 4087</td>\n",
       "      <td>...</td>\n",
       "      <td>21P0008145</td>\n",
       "      <td>03/02/2021</td>\n",
       "      <td>05/09/2021</td>\n",
       "      <td>Tiffanay Waller</td>\n",
       "      <td>Networking Equipment</td>\n",
       "      <td>Networking Equipment</td>\n",
       "      <td>07/03/2018</td>\n",
       "      <td>07/03/2022</td>\n",
       "      <td>07/03/2023</td>\n",
       "      <td>48674866</td>\n",
       "    </tr>\n",
       "    <tr>\n",
       "      <th>981293</th>\n",
       "      <td>2021</td>\n",
       "      <td>Texas Department of Public Safety</td>\n",
       "      <td>Cisco Systems, Inc.</td>\n",
       "      <td>3748.07</td>\n",
       "      <td>DIR-TSO-4167</td>\n",
       "      <td>Cisco Branded Products and Related Services</td>\n",
       "      <td>DIR-TSO-TMP-425</td>\n",
       "      <td>State Agency</td>\n",
       "      <td>Accounts Payable</td>\n",
       "      <td>Po Box 4087</td>\n",
       "      <td>...</td>\n",
       "      <td>21P0008145</td>\n",
       "      <td>03/02/2021</td>\n",
       "      <td>05/09/2021</td>\n",
       "      <td>Tiffanay Waller</td>\n",
       "      <td>Networking Equipment</td>\n",
       "      <td>Networking Equipment</td>\n",
       "      <td>07/03/2018</td>\n",
       "      <td>07/03/2022</td>\n",
       "      <td>07/03/2023</td>\n",
       "      <td>48674867</td>\n",
       "    </tr>\n",
       "    <tr>\n",
       "      <th>981294</th>\n",
       "      <td>2021</td>\n",
       "      <td>Texas Department of Public Safety</td>\n",
       "      <td>Cisco Systems, Inc.</td>\n",
       "      <td>3748.07</td>\n",
       "      <td>DIR-TSO-4167</td>\n",
       "      <td>Cisco Branded Products and Related Services</td>\n",
       "      <td>DIR-TSO-TMP-425</td>\n",
       "      <td>State Agency</td>\n",
       "      <td>Accounts Payable</td>\n",
       "      <td>Po Box 4087</td>\n",
       "      <td>...</td>\n",
       "      <td>21P0008145</td>\n",
       "      <td>03/02/2021</td>\n",
       "      <td>05/09/2021</td>\n",
       "      <td>Tiffanay Waller</td>\n",
       "      <td>Networking Equipment</td>\n",
       "      <td>Networking Equipment</td>\n",
       "      <td>07/03/2018</td>\n",
       "      <td>07/03/2022</td>\n",
       "      <td>07/03/2023</td>\n",
       "      <td>48674868</td>\n",
       "    </tr>\n",
       "    <tr>\n",
       "      <th>981295</th>\n",
       "      <td>2021</td>\n",
       "      <td>Texas Department of Public Safety</td>\n",
       "      <td>Cisco Systems, Inc.</td>\n",
       "      <td>3748.07</td>\n",
       "      <td>DIR-TSO-4167</td>\n",
       "      <td>Cisco Branded Products and Related Services</td>\n",
       "      <td>DIR-TSO-TMP-425</td>\n",
       "      <td>State Agency</td>\n",
       "      <td>Accounts Payable</td>\n",
       "      <td>Po Box 4087</td>\n",
       "      <td>...</td>\n",
       "      <td>21P0008145</td>\n",
       "      <td>03/02/2021</td>\n",
       "      <td>05/09/2021</td>\n",
       "      <td>Tiffanay Waller</td>\n",
       "      <td>Networking Equipment</td>\n",
       "      <td>Networking Equipment</td>\n",
       "      <td>07/03/2018</td>\n",
       "      <td>07/03/2022</td>\n",
       "      <td>07/03/2023</td>\n",
       "      <td>48674869</td>\n",
       "    </tr>\n",
       "  </tbody>\n",
       "</table>\n",
       "<p>5 rows × 42 columns</p>\n",
       "</div>"
      ],
      "text/plain": [
       "        fiscal_year                      customer_name          vendor_name  \\\n",
       "981291         2021  Texas Department of Public Safety  Cisco Systems, Inc.   \n",
       "981292         2021  Texas Department of Public Safety  Cisco Systems, Inc.   \n",
       "981293         2021  Texas Department of Public Safety  Cisco Systems, Inc.   \n",
       "981294         2021  Texas Department of Public Safety  Cisco Systems, Inc.   \n",
       "981295         2021  Texas Department of Public Safety  Cisco Systems, Inc.   \n",
       "\n",
       "        purchase_amount contract_number  \\\n",
       "981291          2657.25    DIR-TSO-4167   \n",
       "981292          3053.83    DIR-TSO-4167   \n",
       "981293          3748.07    DIR-TSO-4167   \n",
       "981294          3748.07    DIR-TSO-4167   \n",
       "981295          3748.07    DIR-TSO-4167   \n",
       "\n",
       "                                    rfo_description       rfo_number  \\\n",
       "981291  Cisco Branded Products and Related Services  DIR-TSO-TMP-425   \n",
       "981292  Cisco Branded Products and Related Services  DIR-TSO-TMP-425   \n",
       "981293  Cisco Branded Products and Related Services  DIR-TSO-TMP-425   \n",
       "981294  Cisco Branded Products and Related Services  DIR-TSO-TMP-425   \n",
       "981295  Cisco Branded Products and Related Services  DIR-TSO-TMP-425   \n",
       "\n",
       "       customer_type  customer_contact customer_address  ...   po_number  \\\n",
       "981291  State Agency  Accounts Payable      Po Box 4087  ...  21P0008145   \n",
       "981292  State Agency  Accounts Payable      Po Box 4087  ...  21P0008145   \n",
       "981293  State Agency  Accounts Payable      Po Box 4087  ...  21P0008145   \n",
       "981294  State Agency  Accounts Payable      Po Box 4087  ...  21P0008145   \n",
       "981295  State Agency  Accounts Payable      Po Box 4087  ...  21P0008145   \n",
       "\n",
       "        order_date shipped_date dir_contract_mgr         contract_type  \\\n",
       "981291  03/02/2021   05/09/2021  Tiffanay Waller  Networking Equipment   \n",
       "981292  03/02/2021   05/09/2021  Tiffanay Waller  Networking Equipment   \n",
       "981293  03/02/2021   05/09/2021  Tiffanay Waller  Networking Equipment   \n",
       "981294  03/02/2021   05/09/2021  Tiffanay Waller  Networking Equipment   \n",
       "981295  03/02/2021   05/09/2021  Tiffanay Waller  Networking Equipment   \n",
       "\n",
       "            contract_subtype contract_start_date contract_end_date  \\\n",
       "981291  Networking Equipment          07/03/2018        07/03/2022   \n",
       "981292  Networking Equipment          07/03/2018        07/03/2022   \n",
       "981293  Networking Equipment          07/03/2018        07/03/2022   \n",
       "981294  Networking Equipment          07/03/2018        07/03/2022   \n",
       "981295  Networking Equipment          07/03/2018        07/03/2022   \n",
       "\n",
       "       contract_termination_date sales_fact_number  \n",
       "981291                07/03/2023          48674865  \n",
       "981292                07/03/2023          48674866  \n",
       "981293                07/03/2023          48674867  \n",
       "981294                07/03/2023          48674868  \n",
       "981295                07/03/2023          48674869  \n",
       "\n",
       "[5 rows x 42 columns]"
      ]
     },
     "execution_count": 4,
     "metadata": {},
     "output_type": "execute_result"
    }
   ],
   "source": [
    "df.head()"
   ]
  },
  {
   "cell_type": "code",
   "execution_count": 5,
   "id": "e6bcb86e-3984-4d2f-8bdc-62e6b38f7c00",
   "metadata": {},
   "outputs": [
    {
     "name": "stdout",
     "output_type": "stream",
     "text": [
      "<class 'pandas.core.frame.DataFrame'>\n",
      "Int64Index: 378523 entries, 981291 to 7367057\n",
      "Data columns (total 42 columns):\n",
      " #   Column                     Non-Null Count   Dtype  \n",
      "---  ------                     --------------   -----  \n",
      " 0   fiscal_year                378523 non-null  int64  \n",
      " 1   customer_name              378523 non-null  object \n",
      " 2   vendor_name                378523 non-null  object \n",
      " 3   purchase_amount            378523 non-null  float64\n",
      " 4   contract_number            378523 non-null  object \n",
      " 5   rfo_description            378523 non-null  object \n",
      " 6   rfo_number                 378523 non-null  object \n",
      " 7   customer_type              378523 non-null  object \n",
      " 8   customer_contact           369036 non-null  object \n",
      " 9   customer_address           378523 non-null  object \n",
      " 10  customer_city              378523 non-null  object \n",
      " 11  customer_state             378523 non-null  object \n",
      " 12  customer_zip               378523 non-null  object \n",
      " 13  vendor_contact             378503 non-null  object \n",
      " 14  vendor_hub_type            378523 non-null  object \n",
      " 15  vendor_address             378523 non-null  object \n",
      " 16  vendor_city                378523 non-null  object \n",
      " 17  vendor_state               378523 non-null  object \n",
      " 18  vendor_zip                 378523 non-null  object \n",
      " 19  reseller_name              375992 non-null  object \n",
      " 20  reseller_hub_type          378523 non-null  object \n",
      " 21  reseller_address           375509 non-null  object \n",
      " 22  reseller_city              375509 non-null  object \n",
      " 23  reseller_state             375509 non-null  object \n",
      " 24  reseller_zip               375509 non-null  float64\n",
      " 25  reseller_phone             375446 non-null  object \n",
      " 26  report_received_month      378523 non-null  int64  \n",
      " 27  purchase_month             378523 non-null  int64  \n",
      " 28  brand_name                 378523 non-null  object \n",
      " 29  order_quantity             378523 non-null  float64\n",
      " 30  unit_price                 378523 non-null  float64\n",
      " 31  invoice_number             378513 non-null  object \n",
      " 32  po_number                  378505 non-null  object \n",
      " 33  order_date                 378523 non-null  object \n",
      " 34  shipped_date               378523 non-null  object \n",
      " 35  dir_contract_mgr           378517 non-null  object \n",
      " 36  contract_type              378523 non-null  object \n",
      " 37  contract_subtype           378523 non-null  object \n",
      " 38  contract_start_date        378523 non-null  object \n",
      " 39  contract_end_date          378523 non-null  object \n",
      " 40  contract_termination_date  378523 non-null  object \n",
      " 41  sales_fact_number          378523 non-null  int64  \n",
      "dtypes: float64(4), int64(4), object(34)\n",
      "memory usage: 124.2+ MB\n"
     ]
    }
   ],
   "source": [
    "df.info()"
   ]
  },
  {
   "cell_type": "code",
   "execution_count": 6,
   "id": "30dd5c9e-0cb7-4700-859e-ab551aadda45",
   "metadata": {},
   "outputs": [
    {
     "data": {
      "text/html": [
       "<div>\n",
       "<style scoped>\n",
       "    .dataframe tbody tr th:only-of-type {\n",
       "        vertical-align: middle;\n",
       "    }\n",
       "\n",
       "    .dataframe tbody tr th {\n",
       "        vertical-align: top;\n",
       "    }\n",
       "\n",
       "    .dataframe thead th {\n",
       "        text-align: right;\n",
       "    }\n",
       "</style>\n",
       "<table border=\"1\" class=\"dataframe\">\n",
       "  <thead>\n",
       "    <tr style=\"text-align: right;\">\n",
       "      <th></th>\n",
       "      <th>fiscal_year</th>\n",
       "      <th>customer_name</th>\n",
       "      <th>vendor_name</th>\n",
       "      <th>purchase_amount</th>\n",
       "      <th>contract_number</th>\n",
       "      <th>rfo_description</th>\n",
       "      <th>rfo_number</th>\n",
       "      <th>customer_type</th>\n",
       "      <th>customer_contact</th>\n",
       "      <th>customer_address</th>\n",
       "      <th>...</th>\n",
       "      <th>po_number</th>\n",
       "      <th>order_date</th>\n",
       "      <th>shipped_date</th>\n",
       "      <th>dir_contract_mgr</th>\n",
       "      <th>contract_type</th>\n",
       "      <th>contract_subtype</th>\n",
       "      <th>contract_start_date</th>\n",
       "      <th>contract_end_date</th>\n",
       "      <th>contract_termination_date</th>\n",
       "      <th>sales_fact_number</th>\n",
       "    </tr>\n",
       "  </thead>\n",
       "  <tbody>\n",
       "    <tr>\n",
       "      <th>7367053</th>\n",
       "      <td>2023</td>\n",
       "      <td>Lamar Consolidated Independent School District</td>\n",
       "      <td>Cisco Systems, Inc.</td>\n",
       "      <td>22156.38</td>\n",
       "      <td>DIR-TSO-4167</td>\n",
       "      <td>Cisco Branded Products and Related Services</td>\n",
       "      <td>DIR-TSO-TMP-425</td>\n",
       "      <td>K-12</td>\n",
       "      <td>Accounts Payable</td>\n",
       "      <td>3911 Ave I</td>\n",
       "      <td>...</td>\n",
       "      <td>71009590</td>\n",
       "      <td>06/15/2022</td>\n",
       "      <td>10/30/2022</td>\n",
       "      <td>Tiffanay Waller</td>\n",
       "      <td>Networking Equipment</td>\n",
       "      <td>Networking Equipment</td>\n",
       "      <td>07/03/2018</td>\n",
       "      <td>07/03/2023</td>\n",
       "      <td>07/03/2023</td>\n",
       "      <td>55911606</td>\n",
       "    </tr>\n",
       "    <tr>\n",
       "      <th>7367054</th>\n",
       "      <td>2023</td>\n",
       "      <td>Lamar Consolidated Independent School District</td>\n",
       "      <td>Cisco Systems, Inc.</td>\n",
       "      <td>9155.50</td>\n",
       "      <td>DIR-TSO-4167</td>\n",
       "      <td>Cisco Branded Products and Related Services</td>\n",
       "      <td>DIR-TSO-TMP-425</td>\n",
       "      <td>K-12</td>\n",
       "      <td>Accounts Payable</td>\n",
       "      <td>3911 Ave I</td>\n",
       "      <td>...</td>\n",
       "      <td>71009590</td>\n",
       "      <td>06/15/2022</td>\n",
       "      <td>10/30/2022</td>\n",
       "      <td>Tiffanay Waller</td>\n",
       "      <td>Networking Equipment</td>\n",
       "      <td>Networking Equipment</td>\n",
       "      <td>07/03/2018</td>\n",
       "      <td>07/03/2023</td>\n",
       "      <td>07/03/2023</td>\n",
       "      <td>55911607</td>\n",
       "    </tr>\n",
       "    <tr>\n",
       "      <th>7367055</th>\n",
       "      <td>2023</td>\n",
       "      <td>Lamar Consolidated Independent School District</td>\n",
       "      <td>Cisco Systems, Inc.</td>\n",
       "      <td>44331.09</td>\n",
       "      <td>DIR-TSO-4167</td>\n",
       "      <td>Cisco Branded Products and Related Services</td>\n",
       "      <td>DIR-TSO-TMP-425</td>\n",
       "      <td>K-12</td>\n",
       "      <td>Accounts Payable</td>\n",
       "      <td>3911 Ave I</td>\n",
       "      <td>...</td>\n",
       "      <td>71009590</td>\n",
       "      <td>06/15/2022</td>\n",
       "      <td>10/30/2022</td>\n",
       "      <td>Tiffanay Waller</td>\n",
       "      <td>Networking Equipment</td>\n",
       "      <td>Networking Equipment</td>\n",
       "      <td>07/03/2018</td>\n",
       "      <td>07/03/2023</td>\n",
       "      <td>07/03/2023</td>\n",
       "      <td>55911608</td>\n",
       "    </tr>\n",
       "    <tr>\n",
       "      <th>7367056</th>\n",
       "      <td>2023</td>\n",
       "      <td>Lamar Consolidated Independent School District</td>\n",
       "      <td>Cisco Systems, Inc.</td>\n",
       "      <td>8667.24</td>\n",
       "      <td>DIR-TSO-4167</td>\n",
       "      <td>Cisco Branded Products and Related Services</td>\n",
       "      <td>DIR-TSO-TMP-425</td>\n",
       "      <td>K-12</td>\n",
       "      <td>Accounts Payable</td>\n",
       "      <td>3911 Ave I</td>\n",
       "      <td>...</td>\n",
       "      <td>71009590</td>\n",
       "      <td>06/15/2022</td>\n",
       "      <td>10/30/2022</td>\n",
       "      <td>Tiffanay Waller</td>\n",
       "      <td>Networking Equipment</td>\n",
       "      <td>Networking Equipment</td>\n",
       "      <td>07/03/2018</td>\n",
       "      <td>07/03/2023</td>\n",
       "      <td>07/03/2023</td>\n",
       "      <td>55911609</td>\n",
       "    </tr>\n",
       "    <tr>\n",
       "      <th>7367057</th>\n",
       "      <td>2023</td>\n",
       "      <td>Lamar Consolidated Independent School District</td>\n",
       "      <td>Cisco Systems, Inc.</td>\n",
       "      <td>27161.40</td>\n",
       "      <td>DIR-TSO-4167</td>\n",
       "      <td>Cisco Branded Products and Related Services</td>\n",
       "      <td>DIR-TSO-TMP-425</td>\n",
       "      <td>K-12</td>\n",
       "      <td>Accounts Payable</td>\n",
       "      <td>3911 Ave I</td>\n",
       "      <td>...</td>\n",
       "      <td>71009590</td>\n",
       "      <td>06/15/2022</td>\n",
       "      <td>10/30/2022</td>\n",
       "      <td>Tiffanay Waller</td>\n",
       "      <td>Networking Equipment</td>\n",
       "      <td>Networking Equipment</td>\n",
       "      <td>07/03/2018</td>\n",
       "      <td>07/03/2023</td>\n",
       "      <td>07/03/2023</td>\n",
       "      <td>55911610</td>\n",
       "    </tr>\n",
       "  </tbody>\n",
       "</table>\n",
       "<p>5 rows × 42 columns</p>\n",
       "</div>"
      ],
      "text/plain": [
       "         fiscal_year                                   customer_name  \\\n",
       "7367053         2023  Lamar Consolidated Independent School District   \n",
       "7367054         2023  Lamar Consolidated Independent School District   \n",
       "7367055         2023  Lamar Consolidated Independent School District   \n",
       "7367056         2023  Lamar Consolidated Independent School District   \n",
       "7367057         2023  Lamar Consolidated Independent School District   \n",
       "\n",
       "                 vendor_name  purchase_amount contract_number  \\\n",
       "7367053  Cisco Systems, Inc.         22156.38    DIR-TSO-4167   \n",
       "7367054  Cisco Systems, Inc.          9155.50    DIR-TSO-4167   \n",
       "7367055  Cisco Systems, Inc.         44331.09    DIR-TSO-4167   \n",
       "7367056  Cisco Systems, Inc.          8667.24    DIR-TSO-4167   \n",
       "7367057  Cisco Systems, Inc.         27161.40    DIR-TSO-4167   \n",
       "\n",
       "                                     rfo_description       rfo_number  \\\n",
       "7367053  Cisco Branded Products and Related Services  DIR-TSO-TMP-425   \n",
       "7367054  Cisco Branded Products and Related Services  DIR-TSO-TMP-425   \n",
       "7367055  Cisco Branded Products and Related Services  DIR-TSO-TMP-425   \n",
       "7367056  Cisco Branded Products and Related Services  DIR-TSO-TMP-425   \n",
       "7367057  Cisco Branded Products and Related Services  DIR-TSO-TMP-425   \n",
       "\n",
       "        customer_type  customer_contact customer_address  ... po_number  \\\n",
       "7367053          K-12  Accounts Payable       3911 Ave I  ...  71009590   \n",
       "7367054          K-12  Accounts Payable       3911 Ave I  ...  71009590   \n",
       "7367055          K-12  Accounts Payable       3911 Ave I  ...  71009590   \n",
       "7367056          K-12  Accounts Payable       3911 Ave I  ...  71009590   \n",
       "7367057          K-12  Accounts Payable       3911 Ave I  ...  71009590   \n",
       "\n",
       "         order_date shipped_date dir_contract_mgr         contract_type  \\\n",
       "7367053  06/15/2022   10/30/2022  Tiffanay Waller  Networking Equipment   \n",
       "7367054  06/15/2022   10/30/2022  Tiffanay Waller  Networking Equipment   \n",
       "7367055  06/15/2022   10/30/2022  Tiffanay Waller  Networking Equipment   \n",
       "7367056  06/15/2022   10/30/2022  Tiffanay Waller  Networking Equipment   \n",
       "7367057  06/15/2022   10/30/2022  Tiffanay Waller  Networking Equipment   \n",
       "\n",
       "             contract_subtype contract_start_date contract_end_date  \\\n",
       "7367053  Networking Equipment          07/03/2018        07/03/2023   \n",
       "7367054  Networking Equipment          07/03/2018        07/03/2023   \n",
       "7367055  Networking Equipment          07/03/2018        07/03/2023   \n",
       "7367056  Networking Equipment          07/03/2018        07/03/2023   \n",
       "7367057  Networking Equipment          07/03/2018        07/03/2023   \n",
       "\n",
       "        contract_termination_date sales_fact_number  \n",
       "7367053                07/03/2023          55911606  \n",
       "7367054                07/03/2023          55911607  \n",
       "7367055                07/03/2023          55911608  \n",
       "7367056                07/03/2023          55911609  \n",
       "7367057                07/03/2023          55911610  \n",
       "\n",
       "[5 rows x 42 columns]"
      ]
     },
     "execution_count": 6,
     "metadata": {},
     "output_type": "execute_result"
    }
   ],
   "source": [
    "df.tail()"
   ]
  },
  {
   "cell_type": "code",
   "execution_count": 13,
   "id": "b989c744-67ae-4d22-8792-0414abd82eef",
   "metadata": {},
   "outputs": [
    {
     "data": {
      "text/plain": [
       "('01/01/2016', '12/31/2021')"
      ]
     },
     "execution_count": 13,
     "metadata": {},
     "output_type": "execute_result"
    }
   ],
   "source": [
    "df['order_date'].min(), df['order_date'].max()"
   ]
  },
  {
   "cell_type": "code",
   "execution_count": 14,
   "id": "f07dad2b-26a9-46b2-91c4-a275dfc0354e",
   "metadata": {},
   "outputs": [
    {
     "data": {
      "text/plain": [
       "(2014, 2023)"
      ]
     },
     "execution_count": 14,
     "metadata": {},
     "output_type": "execute_result"
    }
   ],
   "source": [
    "df['fiscal_year'].min(), df['fiscal_year'].max()"
   ]
  },
  {
   "cell_type": "code",
   "execution_count": 15,
   "id": "ba550936-41ad-4cb2-8a8f-6a080e0596cb",
   "metadata": {},
   "outputs": [
    {
     "data": {
      "text/plain": [
       "('01/01/2015', '12/31/2021')"
      ]
     },
     "execution_count": 15,
     "metadata": {},
     "output_type": "execute_result"
    }
   ],
   "source": [
    "df['shipped_date'].min(),df['shipped_date'].max()"
   ]
  },
  {
   "cell_type": "code",
   "execution_count": 16,
   "id": "38fa94bd-cdf0-4aa0-846f-e0fef65bd4c2",
   "metadata": {},
   "outputs": [
    {
     "data": {
      "text/plain": [
       "('05/05/2014', '07/03/2018')"
      ]
     },
     "execution_count": 16,
     "metadata": {},
     "output_type": "execute_result"
    }
   ],
   "source": [
    "df['contract_start_date'].min(), df['contract_start_date'].max()"
   ]
  },
  {
   "cell_type": "code",
   "execution_count": 17,
   "id": "8beb385f-2ce5-4400-98c5-a06bfa17f49d",
   "metadata": {},
   "outputs": [
    {
     "data": {
      "text/plain": [
       "('07/03/2022', '07/04/2018')"
      ]
     },
     "execution_count": 17,
     "metadata": {},
     "output_type": "execute_result"
    }
   ],
   "source": [
    "df['contract_end_date'].min(), df['contract_end_date'].max()"
   ]
  },
  {
   "cell_type": "code",
   "execution_count": 18,
   "id": "055abb14-bb81-4fcb-a47e-12071fcb21b4",
   "metadata": {},
   "outputs": [
    {
     "data": {
      "text/plain": [
       "('07/03/2023', '07/04/2018')"
      ]
     },
     "execution_count": 18,
     "metadata": {},
     "output_type": "execute_result"
    }
   ],
   "source": [
    "df['contract_termination_date'].min(), df['contract_termination_date'].max()"
   ]
  },
  {
   "cell_type": "code",
   "execution_count": 29,
   "id": "88c07357-1444-4fe1-b9b0-b29db8cdb799",
   "metadata": {},
   "outputs": [],
   "source": [
    "columns = ['order_date', 'shipped_date', 'contract_start_date', 'contract_end_date', 'contract_termination_date']"
   ]
  },
  {
   "cell_type": "code",
   "execution_count": 30,
   "id": "f26b47a7-51fd-4421-b04a-9a324980163f",
   "metadata": {},
   "outputs": [
    {
     "data": {
      "text/html": [
       "<div>\n",
       "<style scoped>\n",
       "    .dataframe tbody tr th:only-of-type {\n",
       "        vertical-align: middle;\n",
       "    }\n",
       "\n",
       "    .dataframe tbody tr th {\n",
       "        vertical-align: top;\n",
       "    }\n",
       "\n",
       "    .dataframe thead th {\n",
       "        text-align: right;\n",
       "    }\n",
       "</style>\n",
       "<table border=\"1\" class=\"dataframe\">\n",
       "  <thead>\n",
       "    <tr style=\"text-align: right;\">\n",
       "      <th></th>\n",
       "      <th>order_date</th>\n",
       "      <th>shipped_date</th>\n",
       "      <th>contract_start_date</th>\n",
       "      <th>contract_end_date</th>\n",
       "      <th>contract_termination_date</th>\n",
       "    </tr>\n",
       "  </thead>\n",
       "  <tbody>\n",
       "    <tr>\n",
       "      <th>981291</th>\n",
       "      <td>2021-03-02</td>\n",
       "      <td>2021-05-09</td>\n",
       "      <td>2018-07-03</td>\n",
       "      <td>2022-07-03</td>\n",
       "      <td>2023-07-03</td>\n",
       "    </tr>\n",
       "    <tr>\n",
       "      <th>981292</th>\n",
       "      <td>2021-03-02</td>\n",
       "      <td>2021-05-09</td>\n",
       "      <td>2018-07-03</td>\n",
       "      <td>2022-07-03</td>\n",
       "      <td>2023-07-03</td>\n",
       "    </tr>\n",
       "    <tr>\n",
       "      <th>981293</th>\n",
       "      <td>2021-03-02</td>\n",
       "      <td>2021-05-09</td>\n",
       "      <td>2018-07-03</td>\n",
       "      <td>2022-07-03</td>\n",
       "      <td>2023-07-03</td>\n",
       "    </tr>\n",
       "    <tr>\n",
       "      <th>981294</th>\n",
       "      <td>2021-03-02</td>\n",
       "      <td>2021-05-09</td>\n",
       "      <td>2018-07-03</td>\n",
       "      <td>2022-07-03</td>\n",
       "      <td>2023-07-03</td>\n",
       "    </tr>\n",
       "    <tr>\n",
       "      <th>981295</th>\n",
       "      <td>2021-03-02</td>\n",
       "      <td>2021-05-09</td>\n",
       "      <td>2018-07-03</td>\n",
       "      <td>2022-07-03</td>\n",
       "      <td>2023-07-03</td>\n",
       "    </tr>\n",
       "  </tbody>\n",
       "</table>\n",
       "</div>"
      ],
      "text/plain": [
       "       order_date shipped_date contract_start_date contract_end_date  \\\n",
       "981291 2021-03-02   2021-05-09          2018-07-03        2022-07-03   \n",
       "981292 2021-03-02   2021-05-09          2018-07-03        2022-07-03   \n",
       "981293 2021-03-02   2021-05-09          2018-07-03        2022-07-03   \n",
       "981294 2021-03-02   2021-05-09          2018-07-03        2022-07-03   \n",
       "981295 2021-03-02   2021-05-09          2018-07-03        2022-07-03   \n",
       "\n",
       "       contract_termination_date  \n",
       "981291                2023-07-03  \n",
       "981292                2023-07-03  \n",
       "981293                2023-07-03  \n",
       "981294                2023-07-03  \n",
       "981295                2023-07-03  "
      ]
     },
     "execution_count": 30,
     "metadata": {},
     "output_type": "execute_result"
    }
   ],
   "source": [
    "df_dates = pd.DataFrame()\n",
    "for column in columns:\n",
    "    df_dates[column] = pd.to_datetime(df[column])\n",
    "\n",
    "df_dates.head()"
   ]
  },
  {
   "cell_type": "code",
   "execution_count": 31,
   "id": "a8f6c12a-1b97-47e7-b6dc-e110297ab1dd",
   "metadata": {},
   "outputs": [
    {
     "data": {
      "text/plain": [
       "<AxesSubplot:>"
      ]
     },
     "execution_count": 31,
     "metadata": {},
     "output_type": "execute_result"
    },
    {
     "data": {
      "image/png": "[encoded data removed]",
      "text/plain": [
       "<Figure size 640x480 with 1 Axes>"
      ]
     },
     "metadata": {},
     "output_type": "display_data"
    }
   ],
   "source": [
    "df_dates.plot()"
   ]
  },
  {
   "cell_type": "code",
   "execution_count": 41,
   "id": "1e6303d8-40f2-4ae5-a0a6-a2b5668e642f",
   "metadata": {},
   "outputs": [
    {
     "data": {
      "text/plain": [
       "(Timestamp('2014-05-06 00:00:00'), Timestamp('2022-11-29 00:00:00'))"
      ]
     },
     "execution_count": 41,
     "metadata": {},
     "output_type": "execute_result"
    }
   ],
   "source": [
    "df_dates['order_date'].min(), df_dates['order_date'].max()"
   ]
  },
  {
   "cell_type": "code",
   "execution_count": 42,
   "id": "43e99f49-4e37-46b8-84d8-791e4b971cb2",
   "metadata": {},
   "outputs": [
    {
     "data": {
      "text/plain": [
       "(Timestamp('2014-05-20 00:00:00'), Timestamp('2022-11-30 00:00:00'))"
      ]
     },
     "execution_count": 42,
     "metadata": {},
     "output_type": "execute_result"
    }
   ],
   "source": [
    "df_dates['shipped_date'].min(),df_dates['shipped_date'].max()"
   ]
  },
  {
   "cell_type": "code",
   "execution_count": 43,
   "id": "8b0a9c84-3d0f-44fd-a9e2-3436f6b5880f",
   "metadata": {},
   "outputs": [
    {
     "data": {
      "text/plain": [
       "(Timestamp('2014-05-05 00:00:00'), Timestamp('2018-07-03 00:00:00'))"
      ]
     },
     "execution_count": 43,
     "metadata": {},
     "output_type": "execute_result"
    }
   ],
   "source": [
    "df_dates['contract_start_date'].min(), df_dates['contract_start_date'].max()"
   ]
  },
  {
   "cell_type": "code",
   "execution_count": 44,
   "id": "fbd5be39-994c-44b7-9f18-ce734bf43936",
   "metadata": {},
   "outputs": [
    {
     "data": {
      "text/plain": [
       "(Timestamp('2018-07-04 00:00:00'), Timestamp('2023-07-03 00:00:00'))"
      ]
     },
     "execution_count": 44,
     "metadata": {},
     "output_type": "execute_result"
    }
   ],
   "source": [
    "df_dates['contract_end_date'].min(), df_dates['contract_end_date'].max()"
   ]
  },
  {
   "cell_type": "code",
   "execution_count": 45,
   "id": "41d3b48b-928e-4908-9b5e-a2c7684c8a10",
   "metadata": {},
   "outputs": [
    {
     "data": {
      "text/plain": [
       "(Timestamp('2018-07-04 00:00:00'), Timestamp('2023-07-03 00:00:00'))"
      ]
     },
     "execution_count": 45,
     "metadata": {},
     "output_type": "execute_result"
    }
   ],
   "source": [
    "df_dates['contract_termination_date'].min(), df_dates['contract_termination_date'].max()"
   ]
  },
  {
   "cell_type": "code",
   "execution_count": 46,
   "id": "b70699f2-c592-4dd7-8acd-f9a91870b79a",
   "metadata": {},
   "outputs": [
    {
     "data": {
      "text/html": [
       "<div>\n",
       "<style scoped>\n",
       "    .dataframe tbody tr th:only-of-type {\n",
       "        vertical-align: middle;\n",
       "    }\n",
       "\n",
       "    .dataframe tbody tr th {\n",
       "        vertical-align: top;\n",
       "    }\n",
       "\n",
       "    .dataframe thead th {\n",
       "        text-align: right;\n",
       "    }\n",
       "</style>\n",
       "<table border=\"1\" class=\"dataframe\">\n",
       "  <thead>\n",
       "    <tr style=\"text-align: right;\">\n",
       "      <th></th>\n",
       "      <th>order_date</th>\n",
       "      <th>shipped_date</th>\n",
       "      <th>contract_start_date</th>\n",
       "      <th>contract_end_date</th>\n",
       "      <th>contract_termination_date</th>\n",
       "    </tr>\n",
       "  </thead>\n",
       "  <tbody>\n",
       "    <tr>\n",
       "      <th>981291</th>\n",
       "      <td>2021-03-02</td>\n",
       "      <td>2021-05-09</td>\n",
       "      <td>2018-07-03</td>\n",
       "      <td>2022-07-03</td>\n",
       "      <td>2023-07-03</td>\n",
       "    </tr>\n",
       "    <tr>\n",
       "      <th>981292</th>\n",
       "      <td>2021-03-02</td>\n",
       "      <td>2021-05-09</td>\n",
       "      <td>2018-07-03</td>\n",
       "      <td>2022-07-03</td>\n",
       "      <td>2023-07-03</td>\n",
       "    </tr>\n",
       "    <tr>\n",
       "      <th>981293</th>\n",
       "      <td>2021-03-02</td>\n",
       "      <td>2021-05-09</td>\n",
       "      <td>2018-07-03</td>\n",
       "      <td>2022-07-03</td>\n",
       "      <td>2023-07-03</td>\n",
       "    </tr>\n",
       "    <tr>\n",
       "      <th>981294</th>\n",
       "      <td>2021-03-02</td>\n",
       "      <td>2021-05-09</td>\n",
       "      <td>2018-07-03</td>\n",
       "      <td>2022-07-03</td>\n",
       "      <td>2023-07-03</td>\n",
       "    </tr>\n",
       "    <tr>\n",
       "      <th>981295</th>\n",
       "      <td>2021-03-02</td>\n",
       "      <td>2021-05-09</td>\n",
       "      <td>2018-07-03</td>\n",
       "      <td>2022-07-03</td>\n",
       "      <td>2023-07-03</td>\n",
       "    </tr>\n",
       "    <tr>\n",
       "      <th>...</th>\n",
       "      <td>...</td>\n",
       "      <td>...</td>\n",
       "      <td>...</td>\n",
       "      <td>...</td>\n",
       "      <td>...</td>\n",
       "    </tr>\n",
       "    <tr>\n",
       "      <th>7367053</th>\n",
       "      <td>2022-06-15</td>\n",
       "      <td>2022-10-30</td>\n",
       "      <td>2018-07-03</td>\n",
       "      <td>2023-07-03</td>\n",
       "      <td>2023-07-03</td>\n",
       "    </tr>\n",
       "    <tr>\n",
       "      <th>7367054</th>\n",
       "      <td>2022-06-15</td>\n",
       "      <td>2022-10-30</td>\n",
       "      <td>2018-07-03</td>\n",
       "      <td>2023-07-03</td>\n",
       "      <td>2023-07-03</td>\n",
       "    </tr>\n",
       "    <tr>\n",
       "      <th>7367055</th>\n",
       "      <td>2022-06-15</td>\n",
       "      <td>2022-10-30</td>\n",
       "      <td>2018-07-03</td>\n",
       "      <td>2023-07-03</td>\n",
       "      <td>2023-07-03</td>\n",
       "    </tr>\n",
       "    <tr>\n",
       "      <th>7367056</th>\n",
       "      <td>2022-06-15</td>\n",
       "      <td>2022-10-30</td>\n",
       "      <td>2018-07-03</td>\n",
       "      <td>2023-07-03</td>\n",
       "      <td>2023-07-03</td>\n",
       "    </tr>\n",
       "    <tr>\n",
       "      <th>7367057</th>\n",
       "      <td>2022-06-15</td>\n",
       "      <td>2022-10-30</td>\n",
       "      <td>2018-07-03</td>\n",
       "      <td>2023-07-03</td>\n",
       "      <td>2023-07-03</td>\n",
       "    </tr>\n",
       "  </tbody>\n",
       "</table>\n",
       "<p>378523 rows × 5 columns</p>\n",
       "</div>"
      ],
      "text/plain": [
       "        order_date shipped_date contract_start_date contract_end_date  \\\n",
       "981291  2021-03-02   2021-05-09          2018-07-03        2022-07-03   \n",
       "981292  2021-03-02   2021-05-09          2018-07-03        2022-07-03   \n",
       "981293  2021-03-02   2021-05-09          2018-07-03        2022-07-03   \n",
       "981294  2021-03-02   2021-05-09          2018-07-03        2022-07-03   \n",
       "981295  2021-03-02   2021-05-09          2018-07-03        2022-07-03   \n",
       "...            ...          ...                 ...               ...   \n",
       "7367053 2022-06-15   2022-10-30          2018-07-03        2023-07-03   \n",
       "7367054 2022-06-15   2022-10-30          2018-07-03        2023-07-03   \n",
       "7367055 2022-06-15   2022-10-30          2018-07-03        2023-07-03   \n",
       "7367056 2022-06-15   2022-10-30          2018-07-03        2023-07-03   \n",
       "7367057 2022-06-15   2022-10-30          2018-07-03        2023-07-03   \n",
       "\n",
       "        contract_termination_date  \n",
       "981291                 2023-07-03  \n",
       "981292                 2023-07-03  \n",
       "981293                 2023-07-03  \n",
       "981294                 2023-07-03  \n",
       "981295                 2023-07-03  \n",
       "...                           ...  \n",
       "7367053                2023-07-03  \n",
       "7367054                2023-07-03  \n",
       "7367055                2023-07-03  \n",
       "7367056                2023-07-03  \n",
       "7367057                2023-07-03  \n",
       "\n",
       "[378523 rows x 5 columns]"
      ]
     },
     "execution_count": 46,
     "metadata": {},
     "output_type": "execute_result"
    }
   ],
   "source": []
  },
  {
   "cell_type": "code",
   "execution_count": null,
   "id": "715b758f-1979-46c9-845f-67d4539c4a17",
   "metadata": {},
   "outputs": [],
   "source": []
  }
 ],
 "metadata": {
  "kernelspec": {
   "display_name": "Python 3 (ipykernel)",
   "language": "python",
   "name": "python3"
  },
  "language_info": {
   "codemirror_mode": {
    "name": "ipython",
    "version": 3
   },
   "file_extension": ".py",
   "mimetype": "text/x-python",
   "name": "python",
   "nbconvert_exporter": "python",
   "pygments_lexer": "ipython3",
   "version": "3.9.13"
  }
 },
 "nbformat": 4,
 "nbformat_minor": 5
}
