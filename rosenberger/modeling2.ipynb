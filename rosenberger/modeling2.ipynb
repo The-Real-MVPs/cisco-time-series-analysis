{
 "cells": [
  {
   "cell_type": "code",
   "execution_count": 3,
   "id": "a6286ef7",
   "metadata": {},
   "outputs": [],
   "source": [
    "import pandas as pd\n",
    "import numpy as np\n",
    "\n",
    "\n",
    "#visualizations libraries\n",
    "import matplotlib.pyplot as plt\n",
    "import seaborn as sns\n",
    "color_pal = sns.color_palette()\n",
    "\n",
    "plt.style.use('bmh')\n",
    "plt.rc(\n",
    "    \"figure\",\n",
    "    autolayout=True,\n",
    "    figsize=(11, 4),\n",
    "    titlesize=18,\n",
    "    titleweight='bold',\n",
    ")\n",
    "plt.rc(\n",
    "    \"axes\",\n",
    "    labelweight=\"bold\",\n",
    "    labelsize=\"large\",\n",
    "    titleweight=\"bold\",\n",
    "    titlesize=16,\n",
    "    titlepad=10,\n",
    ")\n",
    "\n",
    "#machine learning libraries\n",
    "import xgboost as xgb\n",
    "import catboost as cb \n",
    "from sklearn.metrics import mean_squared_error\n",
    "from sklearn.metrics import r2_score\n",
    "from sklearn.metrics import make_scorer\n",
    "\n",
    "from matplotlib import patheffects\n",
    "\n",
    "\n",
    "import os\n",
    "\n",
    "\n",
    "#project modules\n",
    "import src.wrangle as wr\n",
    "import src.summaries as s\n",
    "import src.explore as ex\n",
    "\n",
    "\n",
    "pd.options.display.float_format = '{:,.2f}'.format\n",
    "from importlib import reload\n",
    "\n",
    "import warnings\n",
    "warnings.filterwarnings('ignore')\n",
    "%config InlineBackend.figure_format = 'retina'\n"
   ]
  },
  {
   "cell_type": "code",
   "execution_count": 7,
   "id": "b0d088ee",
   "metadata": {},
   "outputs": [],
   "source": [
    "##### get the data\n",
    "df = s.get_summary_df(wr.get_clean_data(start2018=True))\n",
    "#### split into train, validate, test sets\n",
    "train, test = wr.split_data(df)\n",
    "validate = test.loc[:'2022-06'].copy() \n",
    "test = test.loc['2022-07':].copy()\n",
    "# get time series with the daily resample\n",
    "X_train_ts = train.purchase_amount.copy().resample('D').sum()\n",
    "X_validate_ts = validate.purchase_amount.copy().resample('D').sum()\n",
    "X_test_ts = test.purchase_amount.copy().resample('D').sum()\n",
    "# data frames out of the TS\n",
    "X_train = X_train_ts.to_frame()\n",
    "X_validate = X_validate_ts.to_frame()\n",
    "X_test = X_test_ts.to_frame()"
   ]
  },
  {
   "cell_type": "code",
   "execution_count": 8,
   "id": "c09913a4",
   "metadata": {},
   "outputs": [],
   "source": [
    "X_train = wr.add_date_features(X_train)\n",
    "X_validate = wr.add_date_features(X_validate)\n",
    "X_test = wr.add_date_features(X_test)"
   ]
  },
  {
   "cell_type": "code",
   "execution_count": 10,
   "id": "5dd88630",
   "metadata": {},
   "outputs": [],
   "source": [
    "features = ['month', 'week', 'day_of_week', 'year','day_of_year']\n",
    "target = 'purchase_amount'"
   ]
  },
  {
   "cell_type": "code",
   "execution_count": 11,
   "id": "f396d81f",
   "metadata": {},
   "outputs": [
    {
     "data": {
      "text/html": [
       "<div>\n",
       "<style scoped>\n",
       "    .dataframe tbody tr th:only-of-type {\n",
       "        vertical-align: middle;\n",
       "    }\n",
       "\n",
       "    .dataframe tbody tr th {\n",
       "        vertical-align: top;\n",
       "    }\n",
       "\n",
       "    .dataframe thead th {\n",
       "        text-align: right;\n",
       "    }\n",
       "</style>\n",
       "<table border=\"1\" class=\"dataframe\">\n",
       "  <thead>\n",
       "    <tr style=\"text-align: right;\">\n",
       "      <th></th>\n",
       "      <th>purchase_amount</th>\n",
       "      <th>year</th>\n",
       "      <th>quarter</th>\n",
       "      <th>month</th>\n",
       "      <th>week</th>\n",
       "      <th>day_of_week</th>\n",
       "      <th>day_of_year</th>\n",
       "      <th>month_name</th>\n",
       "      <th>day_name</th>\n",
       "    </tr>\n",
       "    <tr>\n",
       "      <th>order_date</th>\n",
       "      <th></th>\n",
       "      <th></th>\n",
       "      <th></th>\n",
       "      <th></th>\n",
       "      <th></th>\n",
       "      <th></th>\n",
       "      <th></th>\n",
       "      <th></th>\n",
       "      <th></th>\n",
       "    </tr>\n",
       "  </thead>\n",
       "  <tbody>\n",
       "    <tr>\n",
       "      <th>2018-01-02</th>\n",
       "      <td>171,192.78</td>\n",
       "      <td>2018</td>\n",
       "      <td>1</td>\n",
       "      <td>1</td>\n",
       "      <td>1</td>\n",
       "      <td>1</td>\n",
       "      <td>2</td>\n",
       "      <td>January</td>\n",
       "      <td>Tuesday</td>\n",
       "    </tr>\n",
       "  </tbody>\n",
       "</table>\n",
       "</div>"
      ],
      "text/plain": [
       "            purchase_amount  year  quarter  month  week  day_of_week  \\\n",
       "order_date                                                             \n",
       "2018-01-02       171,192.78  2018        1      1     1            1   \n",
       "\n",
       "            day_of_year month_name day_name  \n",
       "order_date                                   \n",
       "2018-01-02            2    January  Tuesday  "
      ]
     },
     "execution_count": 11,
     "metadata": {},
     "output_type": "execute_result"
    }
   ],
   "source": [
    "X_train.head(1)"
   ]
  },
  {
   "cell_type": "code",
   "execution_count": 12,
   "id": "5a858628",
   "metadata": {},
   "outputs": [],
   "source": [
    "y_train = X_train.purchase_amount\n",
    "y_validate = X_validate.purchase_amount\n",
    "y_test = X_test.purchase_amount\n",
    "\n",
    "X_train = X_train[features]\n",
    "X_validate = X_validate[features]\n",
    "X_test = X_test[features]"
   ]
  },
  {
   "cell_type": "code",
   "execution_count": 13,
   "id": "47c4e971",
   "metadata": {},
   "outputs": [
    {
     "data": {
      "text/html": [
       "<div>\n",
       "<style scoped>\n",
       "    .dataframe tbody tr th:only-of-type {\n",
       "        vertical-align: middle;\n",
       "    }\n",
       "\n",
       "    .dataframe tbody tr th {\n",
       "        vertical-align: top;\n",
       "    }\n",
       "\n",
       "    .dataframe thead th {\n",
       "        text-align: right;\n",
       "    }\n",
       "</style>\n",
       "<table border=\"1\" class=\"dataframe\">\n",
       "  <thead>\n",
       "    <tr style=\"text-align: right;\">\n",
       "      <th></th>\n",
       "      <th>month</th>\n",
       "      <th>week</th>\n",
       "      <th>day_of_week</th>\n",
       "      <th>year</th>\n",
       "      <th>day_of_year</th>\n",
       "    </tr>\n",
       "    <tr>\n",
       "      <th>order_date</th>\n",
       "      <th></th>\n",
       "      <th></th>\n",
       "      <th></th>\n",
       "      <th></th>\n",
       "      <th></th>\n",
       "    </tr>\n",
       "  </thead>\n",
       "  <tbody>\n",
       "    <tr>\n",
       "      <th>2018-01-02</th>\n",
       "      <td>1</td>\n",
       "      <td>1</td>\n",
       "      <td>1</td>\n",
       "      <td>2018</td>\n",
       "      <td>2</td>\n",
       "    </tr>\n",
       "  </tbody>\n",
       "</table>\n",
       "</div>"
      ],
      "text/plain": [
       "            month  week  day_of_week  year  day_of_year\n",
       "order_date                                             \n",
       "2018-01-02      1     1            1  2018            2"
      ]
     },
     "execution_count": 13,
     "metadata": {},
     "output_type": "execute_result"
    }
   ],
   "source": [
    "X_train.head(1)"
   ]
  },
  {
   "cell_type": "code",
   "execution_count": 14,
   "id": "62183bc3",
   "metadata": {},
   "outputs": [],
   "source": [
    "# data frame to keep scores\n",
    "scores = pd.DataFrame(columns=['model_name', 'train_score', 'validate_score'])"
   ]
  },
  {
   "cell_type": "code",
   "execution_count": 15,
   "id": "0e3899d4",
   "metadata": {},
   "outputs": [
    {
     "data": {
      "text/plain": [
       "order_date\n",
       "2018-01-02     171,192.78\n",
       "2018-01-03     102,080.14\n",
       "2018-01-04     181,355.01\n",
       "2018-01-05   1,029,700.32\n",
       "2018-01-06      41,740.42\n",
       "                 ...     \n",
       "2021-12-27   2,016,181.91\n",
       "2021-12-28      88,262.12\n",
       "2021-12-29     110,882.66\n",
       "2021-12-30      54,270.69\n",
       "2021-12-31         712.76\n",
       "Freq: D, Name: purchase_amount, Length: 1460, dtype: float64"
      ]
     },
     "execution_count": 15,
     "metadata": {},
     "output_type": "execute_result"
    }
   ],
   "source": [
    "y_train"
   ]
  },
  {
   "cell_type": "code",
   "execution_count": null,
   "id": "5ce03e5e",
   "metadata": {},
   "outputs": [],
   "source": [
    "xgboost_regular_model = xgb.XGBRegressor(n_estimators = 1000, \n",
    "                         early_stopping_rounds = 50,\n",
    "                         learning_rate=0.01)\n",
    "xgboost_regular_model.fit(X_train, y_train,\n",
    "         eval_set = [(X_train, y_train), (X_validate, y_validate)],\n",
    "         verbose = 10)"
   ]
  }
 ],
 "metadata": {
  "kernelspec": {
   "display_name": "Python 3 (ipykernel)",
   "language": "python",
   "name": "python3"
  },
  "language_info": {
   "codemirror_mode": {
    "name": "ipython",
    "version": 3
   },
   "file_extension": ".py",
   "mimetype": "text/x-python",
   "name": "python",
   "nbconvert_exporter": "python",
   "pygments_lexer": "ipython3",
   "version": "3.9.12"
  }
 },
 "nbformat": 4,
 "nbformat_minor": 5
}
