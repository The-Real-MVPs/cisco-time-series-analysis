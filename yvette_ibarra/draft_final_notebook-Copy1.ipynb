{
 "cells": [
  {
   "cell_type": "markdown",
   "id": "d14a4ea9",
   "metadata": {},
   "source": [
    "<style>\n",
    "    .div-1 {\n",
    "        background-color: #EBEBEB;\n",
    "    }\n",
    "    \n",
    "    .div-2 {\n",
    "    \tbackground-color: #ABBAEA;\n",
    "    }\n",
    "    \n",
    "    .div-3 {\n",
    "    \tbackground-color: #FBD603;\n",
    "    }\n",
    "</style>"
   ]
  },
  {
   "cell_type": "markdown",
   "id": "51bed3cc",
   "metadata": {},
   "source": [
    "<div align=\"right\"><img src='https://blockchain4talent.com/wp-content/uploads/2021/09/a58ab6e0efdce2743f592019683b00c2.jpeg'>"
   ]
  },
  {
   "cell_type": "markdown",
   "id": "c41e3e36",
   "metadata": {},
   "source": [
    "<h1 style=\"color:#2596be;font:luminary;text-align:center;\"><i>Cisco Project</i></h1>"
   ]
  },
  {
   "cell_type": "markdown",
   "id": "901a748a",
   "metadata": {},
   "source": [
    "<div class=“alert alert-success”>\n",
    "\n",
    "<h2 style=\"color:#2596be;\">Project's Description</h1> "
   ]
  },
  {
   "cell_type": "markdown",
   "id": "d129174d",
   "metadata": {},
   "source": [
    "\n",
    "This team will create a __Time Series Analysis__ model that will predict the sales for Cisco a year in the future. Our goal is to explore historical cisco sales to Texas public agencies (school districts, government agencies, municipalities, etc) to present to people who might want to invest into the cisco ecosystem. This can include potential stock investors or customers or even people looking to train to properly implement Cisco equipment.\n",
    "\n"
   ]
  },
  {
   "cell_type": "code",
   "execution_count": 5,
   "id": "5017a44a",
   "metadata": {},
   "outputs": [
    {
     "ename": "ModuleNotFoundError",
     "evalue": "No module named 'src'",
     "output_type": "error",
     "traceback": [
      "\u001b[0;31m---------------------------------------------------------------------------\u001b[0m",
      "\u001b[0;31mModuleNotFoundError\u001b[0m                       Traceback (most recent call last)",
      "Input \u001b[0;32mIn [5]\u001b[0m, in \u001b[0;36m<cell line: 3>\u001b[0;34m()\u001b[0m\n\u001b[1;32m      1\u001b[0m \u001b[38;5;66;03m# project modules\u001b[39;00m\n\u001b[1;32m      2\u001b[0m \u001b[38;5;28;01mimport\u001b[39;00m \u001b[38;5;21;01mwrangle\u001b[39;00m \u001b[38;5;28;01mas\u001b[39;00m \u001b[38;5;21;01mwr\u001b[39;00m\n\u001b[0;32m----> 3\u001b[0m \u001b[38;5;28;01mimport\u001b[39;00m \u001b[38;5;21;01mexplore_Copy1\u001b[39;00m \u001b[38;5;28;01mas\u001b[39;00m \u001b[38;5;21;01mex\u001b[39;00m\n\u001b[1;32m      4\u001b[0m \u001b[38;5;28;01mimport\u001b[39;00m \u001b[38;5;21;01msummaries\u001b[39;00m \u001b[38;5;28;01mas\u001b[39;00m \u001b[38;5;21;01ms\u001b[39;00m\n\u001b[1;32m      5\u001b[0m \u001b[38;5;66;03m#import ts_models_d as tsmd\u001b[39;00m\n\u001b[1;32m      6\u001b[0m \n\u001b[1;32m      7\u001b[0m \u001b[38;5;66;03m# ignore warnings\u001b[39;00m\n",
      "File \u001b[0;32m~/codeup-data-science/cisco-time-series-analysis/yvette_ibarra/explore_Copy1.py:32\u001b[0m, in \u001b[0;36m<module>\u001b[0;34m\u001b[0m\n\u001b[1;32m     22\u001b[0m plt\u001b[38;5;241m.\u001b[39mrc(\n\u001b[1;32m     23\u001b[0m     \u001b[38;5;124m\"\u001b[39m\u001b[38;5;124maxes\u001b[39m\u001b[38;5;124m\"\u001b[39m,\n\u001b[1;32m     24\u001b[0m     labelweight\u001b[38;5;241m=\u001b[39m\u001b[38;5;124m\"\u001b[39m\u001b[38;5;124mbold\u001b[39m\u001b[38;5;124m\"\u001b[39m,\n\u001b[0;32m   (...)\u001b[0m\n\u001b[1;32m     28\u001b[0m     titlepad\u001b[38;5;241m=\u001b[39m\u001b[38;5;241m10\u001b[39m,\n\u001b[1;32m     29\u001b[0m )\n\u001b[1;32m     31\u001b[0m \u001b[38;5;66;03m# project modules\u001b[39;00m\n\u001b[0;32m---> 32\u001b[0m \u001b[38;5;28;01mimport\u001b[39;00m \u001b[38;5;21;01msrc\u001b[39;00m\u001b[38;5;21;01m.\u001b[39;00m\u001b[38;5;21;01mwrangle\u001b[39;00m \u001b[38;5;28;01mas\u001b[39;00m \u001b[38;5;21;01mwr\u001b[39;00m\n\u001b[1;32m     33\u001b[0m \u001b[38;5;28;01mimport\u001b[39;00m \u001b[38;5;21;01msrc\u001b[39;00m\u001b[38;5;21;01m.\u001b[39;00m\u001b[38;5;21;01msummaries\u001b[39;00m \u001b[38;5;28;01mas\u001b[39;00m \u001b[38;5;21;01ms\u001b[39;00m\n\u001b[1;32m     35\u001b[0m \u001b[38;5;66;03m# declaring global variables\u001b[39;00m\n",
      "\u001b[0;31mModuleNotFoundError\u001b[0m: No module named 'src'"
     ]
    }
   ],
   "source": [
    "# project modules\n",
    "import wrangle as wr\n",
    "import explore_Copy1 as ex\n",
    "import summaries as s\n",
    "#import ts_models_d as tsmd\n",
    "\n",
    "# ignore warnings\n",
    "import warnings\n",
    "warnings.filterwarnings('ignore')\n",
    "# makes vizualizations better in a jupyter notebook\n",
    "%config InlineBackend.figure_format = 'retina'"
   ]
  },
  {
   "cell_type": "markdown",
   "id": "d16858d8",
   "metadata": {},
   "source": [
    "<h3 style=\"color:#2596be;\">Acquire and Prepare</h3> "
   ]
  },
  {
   "cell_type": "markdown",
   "id": "92bf8f35",
   "metadata": {},
   "source": [
    "We acquired the data from the [Texas Open Data Portal](https://data.texas.gov/dataset/OFFICIAL-DIR-Cooperative-Contract-Sales-Data-Fisca/w64c-ndf7). The origin of the data is \t[Texas Department of Information Resources](\thttps://dir.texas.gov/). The data file contains information about DIR (Department of Information Resources) Cooperative Contract Sales. To get the information about Cisco we filtered the data by vendor name."
   ]
  },
  {
   "cell_type": "markdown",
   "id": "585040b6",
   "metadata": {},
   "source": [
    "- Our first cleaning step was dropping the  7 columns with null values only and renaming columns into programming friendly format simply by replacing whitespaces with underscores and making them lower case. Our next step was dropping columns with no value for exploration or modeling purposes (for example, `vendor_adress`, `reseller_phone` etc.)\n",
    "- We have created additional features based on the `order_date` information:\n",
    "    `year` : year\n",
    "    `quarter`: quarter\n",
    "    `month`: month number\n",
    "    `month_name`: month name\n",
    "    `day_of_week`: day of week number\n",
    "    `day_name`: day of week name\n",
    "    `day_of_year`: day of the year\n",
    "    `week`: week of the year number\n",
    "\n",
    "The original data contains the accounting information about every transaction where every row represents a transaction. One company could have many transactions per day, including those where the `purchase_amount` was equal to zero, one cent or being negative. We have created as well a summary data frame whith the final `purchase_amount` per day per company. This combined the number of rows from 261,886 to 34,401 rows. \n",
    "- Outliers were kept for this iteration of explore of modeling.\n",
    "\n",
    "- To avoid data leakagee divided the data into train and test sets. \n",
    "- After the exploration we split the test set into validation and test sets as well.\n",
    "- __The target variable of the project is ```purchase_amount```__\n"
   ]
  },
  {
   "cell_type": "markdown",
   "id": "884fd5f7",
   "metadata": {},
   "source": [
    "<h3 style=\"color:#2596be;\">Data Exploration</h3> "
   ]
  },
  {
   "cell_type": "markdown",
   "id": "ada1350c",
   "metadata": {},
   "source": [
    "Before we jump into Data Exploration, let's have a look at the customer types represented in our data. We can see that most orders are made by Local Goverments, followed by  Independent School Districts, Higher Education Institutions and State Agencies. Other public agencies make only 0.6% orders."
   ]
  },
  {
   "cell_type": "code",
   "execution_count": null,
   "id": "7df17159",
   "metadata": {},
   "outputs": [],
   "source": [
    "# call pie chart with \n",
    "ex.viz_customer_types()"
   ]
  },
  {
   "cell_type": "markdown",
   "id": "9c41f7cf",
   "metadata": {},
   "source": [
    "### 1. Is there any significant difference in average of total purchase amounts by  day?"
   ]
  },
  {
   "cell_type": "code",
   "execution_count": null,
   "id": "0ca6fca0",
   "metadata": {},
   "outputs": [],
   "source": [
    "# visualize average sales per day\n",
    "ex.q1_viz()"
   ]
  },
  {
   "cell_type": "markdown",
   "id": "2f491a20",
   "metadata": {},
   "source": [
    "We can see a significant difference in purchase amount between weekdays and weekends. The daily  average  of total purchase amount is plotted as a horizontal purple dashed line. Based on this graph we want to run two statistical tests. We will check if the average of total purchase amount by day is different from average of weekly purchase amounts. Next we will look into the averages of total purchase amount of Monday through Wednesday and see if there is a difference in their averages."
   ]
  },
  {
   "cell_type": "markdown",
   "id": "442bf2db",
   "metadata": {},
   "source": [
    "For statistical tests:\n",
    "\n",
    "- $H_0:$ stands for 'Null hypothesis’ \n",
    "- $H_a:$ stands for 'Alternative hypotheses'\n",
    "\n",
    "- All statistical tests run for the **95% Confidence level**.\n",
    "- The **significance level** (alpha) is set to **0.05**\n",
    "- If the p-value is smaller than 0.05 we reject the Null hypothesis."
   ]
  },
  {
   "cell_type": "markdown",
   "id": "2990d74a",
   "metadata": {},
   "source": [
    "#### Test #1"
   ]
  },
  {
   "cell_type": "markdown",
   "id": "31533cbe",
   "metadata": {},
   "source": [
    "$H_0$: There is no significant difference in average total purchase amount by day  and average of weekly purchase amounts.\n",
    "\n",
    "$H_a$: There is a significant difference in average total purchase amount by day  and average of weekly purchase amounts."
   ]
  },
  {
   "cell_type": "markdown",
   "id": "3f3777cb",
   "metadata": {},
   "source": [
    "We use 1 sample T-test to compare average of weekly purchase amounts of an independent sample against the population average of weekly purchase amounts."
   ]
  },
  {
   "cell_type": "code",
   "execution_count": null,
   "id": "a52f5b4d",
   "metadata": {},
   "outputs": [],
   "source": [
    "# call ttest for every day of the week\n",
    "ex.q1_ttest()"
   ]
  },
  {
   "cell_type": "markdown",
   "id": "05017f17",
   "metadata": {},
   "source": [
    "All days showed a significant difference. For every day of the week we reject the null hypothesis."
   ]
  },
  {
   "cell_type": "markdown",
   "id": "d6074d1f",
   "metadata": {},
   "source": [
    "#### Test #2\n",
    "\n",
    "$H_0$: There is no statisticaly significant difference in means of sales during work days Mon through Wed\n",
    "\n",
    "\n",
    "$H_a$: There is a statisticaly significant difference in means of sales during work days Mon through Wed"
   ]
  },
  {
   "cell_type": "code",
   "execution_count": null,
   "id": "9822ebc9",
   "metadata": {},
   "outputs": [],
   "source": [
    "# call ANOVA test\n",
    "ex.q1_anova()"
   ]
  },
  {
   "cell_type": "markdown",
   "id": "255703ac",
   "metadata": {},
   "source": [
    "The statistical test showed that average sales on Monday, Tuesday and Wednesday don't have significant difference."
   ]
  },
  {
   "cell_type": "markdown",
   "id": "7f645a0b",
   "metadata": {},
   "source": [
    "#### Takeaways:\n",
    "- All daily purchase amounts are significantly different from the average of weekly purchase amounts \n",
    "- Week days have higher average purchase amounts compared to average of weekly purchase amounts\n",
    "- Weekend days purchase amounts are well below average of weekly purchase amounts\n",
    "- Monday, Tuesaday and Wednesday seem to have same average amount of sales\n",
    "- Friday has the highest average sales amount among all days of the week."
   ]
  },
  {
   "cell_type": "markdown",
   "id": "8efc93f9",
   "metadata": {},
   "source": [
    "### 2. Is there any significant difference in average of total purchase amount by month?"
   ]
  },
  {
   "cell_type": "code",
   "execution_count": null,
   "id": "603d8430",
   "metadata": {
    "scrolled": true
   },
   "outputs": [],
   "source": [
    "# show average sales per month\n",
    "ex.q2_viz()"
   ]
  },
  {
   "cell_type": "markdown",
   "id": "3b092101",
   "metadata": {},
   "source": [
    "It seems that July has the largest average purchase amount and February has the lowest average purchase amount."
   ]
  },
  {
   "cell_type": "markdown",
   "id": "8a108a3f",
   "metadata": {},
   "source": [
    "__One sample T-test to check if the average sales per month differ from average monthly sales.__"
   ]
  },
  {
   "cell_type": "markdown",
   "id": "c4053fda",
   "metadata": {},
   "source": [
    "$H_0$: There is no significant difference in  average of total purchase  per month and average yearly purchase amount.\n",
    "\n",
    "$H_a$: There is a significant difference in  average of total purchase  per month and average yearly purchase amount."
   ]
  },
  {
   "cell_type": "code",
   "execution_count": null,
   "id": "249d97ca",
   "metadata": {},
   "outputs": [],
   "source": [
    "# run statistical test for every month\n",
    "ex.q2_ttest()"
   ]
  },
  {
   "cell_type": "markdown",
   "id": "b8972626",
   "metadata": {},
   "source": [
    "#### Takaways:\n",
    "- The highest purchase amount are happening in July, followed by April, October and June.\n",
    "- The lowest sales happen on February.\n",
    "- March has almost the same results as average sales, but there was peak in sales on March, 2020 when pandemic just started, it might happened that March is typically low on sales.\n",
    "- April results might be affected by beginning of pandemic, too."
   ]
  },
  {
   "cell_type": "markdown",
   "id": "a2e0cafd",
   "metadata": {},
   "source": [
    "### 3. Is there any significant difference in purchase amount  by the quarter?"
   ]
  },
  {
   "cell_type": "code",
   "execution_count": null,
   "id": "9de8e6dd",
   "metadata": {},
   "outputs": [],
   "source": [
    "# visualize quarters\n",
    "ex.q3_viz()"
   ]
  },
  {
   "cell_type": "markdown",
   "id": "a4b3d522",
   "metadata": {},
   "source": [
    "Looks like first and third quarter are significantly different from the quarterly mean of purchase amount. In the first quarter purchase amounts are much lower and in the third quarter they are higher. Let's check this observation with a statistical test. We'll run a sample T-test to compare mean of the sample against the mean of the population."
   ]
  },
  {
   "cell_type": "markdown",
   "id": "8f16f989",
   "metadata": {},
   "source": [
    "$H_0$: The quarterly purchase amount of each quarter are not significantly different from overall mean quarterly purchase amount.\n",
    "\n",
    "$H_a$: The quarterly purchased amount of each quarter are significantly different from overall quarterly purchase amount."
   ]
  },
  {
   "cell_type": "code",
   "execution_count": null,
   "id": "9d070fcc",
   "metadata": {
    "scrolled": false
   },
   "outputs": [],
   "source": [
    "# run t-test\n",
    "ex.q3_ttest()"
   ]
  },
  {
   "cell_type": "markdown",
   "id": "cf4d1c7f",
   "metadata": {},
   "source": [
    "Despite the obvious difference in the quarterly purchase amount on the bar chart, statistical test disproved this statement. We fail to reject the null hypothesis because the difference in means is not significant."
   ]
  },
  {
   "cell_type": "markdown",
   "id": "c63c9ece",
   "metadata": {},
   "source": [
    "#### Takeaways:\n",
    "- Highest sales are in the 3rd quarter.\n",
    "- Lowest sales are in the 1st quarter.\n",
    "- Average qurterly sales per each quarter are not significantly different from the overall average quarterly sales."
   ]
  },
  {
   "cell_type": "markdown",
   "id": "43ec3abc",
   "metadata": {},
   "source": [
    "### 4. Is there any significant change in monthly purchase amount percentage in our data?"
   ]
  },
  {
   "cell_type": "markdown",
   "id": "ade3951a",
   "metadata": {},
   "source": [
    "Now let's have a closer look into monthly percentage change in total sales. The graph below shows clear spike in total sales in March, 2020, exactly in the beginning of COVID-2019 pandemic."
   ]
  },
  {
   "cell_type": "code",
   "execution_count": null,
   "id": "044b3dc9",
   "metadata": {},
   "outputs": [],
   "source": [
    "# show monthly % change\n",
    "ex.q4_viz()"
   ]
  },
  {
   "cell_type": "markdown",
   "id": "25244d25",
   "metadata": {},
   "source": [
    "### Takeaway:\n",
    "In the beginning of the pandemic there was a spike in sales."
   ]
  },
  {
   "cell_type": "markdown",
   "id": "556fcf48",
   "metadata": {},
   "source": [
    "### 5. Were there any abnormal purchase orders during the time frame in the data set, if so by who?\n",
    "- We know that the covid-19 global pandemic altered business in the United States among countries of the world. Certainly Cisco Systems' purchase amount in the state of Texas would be effected somehow. We set out to see if there would be large anamolous activities around the year 2020. First, we found that there is an enormous jump in quantities of orders from customers. This jump occured on Janurary 2, 2020. Texas Health and Human Services Commission purchased 3,767,123 units of something and 865,822 units of something else. \n",
    "\n",
    "- We found that a large purchase order like this is made for Texas Health and Human Services periodically, but the purchase order is limited to around 1 million. This purchase probably had to do with foresight regarding what could come given the brewing pandemic which was being reported in China.\n",
    "\n",
    "- You may follow the following graphs to see the findings"
   ]
  },
  {
   "cell_type": "markdown",
   "id": "66f1fb6f",
   "metadata": {},
   "source": [
    "__Notice the large order quantity outlier__"
   ]
  },
  {
   "cell_type": "markdown",
   "id": "6e9032a6",
   "metadata": {},
   "source": [
    "Texas Health and Human Services orders."
   ]
  },
  {
   "cell_type": "code",
   "execution_count": null,
   "id": "73143703",
   "metadata": {
    "scrolled": false
   },
   "outputs": [],
   "source": [
    "# show the orders and payments history for THHS\n",
    "ex.q5_thhsc()"
   ]
  },
  {
   "cell_type": "code",
   "execution_count": null,
   "id": "dd736d38",
   "metadata": {},
   "outputs": [],
   "source": [
    "# show the orders on Jan, 2 2020\n",
    "ex.q5_vizC()"
   ]
  },
  {
   "cell_type": "markdown",
   "id": "605b1437",
   "metadata": {},
   "source": [
    "We can see that Texas Health and Human Services Commission purchased close to 4 million somethings from Cisco Systems one time, outside of any predictable pattern"
   ]
  },
  {
   "cell_type": "markdown",
   "id": "b689400b",
   "metadata": {},
   "source": [
    "<h3 style=\"color:#2596be;\">Data Exploration Takeaways</h3> "
   ]
  },
  {
   "cell_type": "markdown",
   "id": "02d51f6a",
   "metadata": {},
   "source": [
    "- Cisco customers represented in DIR data set are divided into following groups:\n",
    "    * Local Governments - 34.82%\n",
    "    * Independent School Districts - 31.80 %\n",
    "    * Higher Education Institutions - 22.54%\n",
    "    * State Agencies - 10.27%\n",
    "    * Other public agencies - 0.56%\n",
    "    \n",
    "__Daily purchase amounts__\n",
    "- All purchase amounts per day of the week were significantly different from the average weekly purchase amounts.\n",
    "- Week days have higher sales than the average and weekend days almost don't have sales.\n",
    "- Monday, Tuesaday and Wednesday seem to have same average amount of purchase amounts.\n",
    "- Friday has the highest average purchase amount among all days of the week.\n",
    "\n",
    "__Monthly purchase amounts__\n",
    "- The highest purchase amounts are happening in July, followed by April, October and June.\n",
    "- The lowest purchase amounts happen on February.\n",
    "- March has almost the same results as average purchase amounts, but there was peak in purchase amounts on March, 2020 when pandemic just started, it might happened that March is typically low on purchase amounts.\n",
    "- April results might be affected by beginning of pandemic, too.\n",
    "\n",
    "__Quarterly purchase amounts__\n",
    "- Highest purchase amounts are in the 3rd quarter.\n",
    "- Lowest purchase amounts are in the 1st quarter.\n",
    "- Average qurterly purchase amounts per each quarter are not significantly different from the overall average quarterly purchase amounts.\n",
    "\n",
    "__Pandemic observations__\n",
    "- In the beginning of the pandemic there was a spike in purchase amounts."
   ]
  },
  {
   "cell_type": "markdown",
   "id": "3c79043f",
   "metadata": {},
   "source": [
    "<h3 style=\"color:#2596be;\">Time Series Modeling</h3> "
   ]
  },
  {
   "cell_type": "markdown",
   "id": "9d606464",
   "metadata": {},
   "source": [
    "To prepare the data set for time series modeling we created the data frame that contains the information only about the sale's date and amount. The `purchase_amount` is the total sale number by the end of the day. At the removed all information about customers and customer types."
   ]
  },
  {
   "cell_type": "code",
   "execution_count": null,
   "id": "d1d6bb58",
   "metadata": {},
   "outputs": [],
   "source": [
    "from importlib import reload"
   ]
  },
  {
   "cell_type": "code",
   "execution_count": null,
   "id": "3d08a06d",
   "metadata": {},
   "outputs": [],
   "source": [
    "reload(tsmd)"
   ]
  },
  {
   "cell_type": "code",
   "execution_count": null,
   "id": "e96751c3",
   "metadata": {},
   "outputs": [],
   "source": [
    "# show first 3 rows of our train data\n",
    "tsmd.X_train.head(3)"
   ]
  },
  {
   "cell_type": "markdown",
   "id": "fdc184e4",
   "metadata": {},
   "source": [
    "We left the train set the same. It includes data till the end of 2021. We split our test set into validate and test sets. The validate set has data January till June, 2022. The test set contains information about sales in time period July - November, 2022.\n",
    "\n",
    "Let's have a quick look how sales are changing through the time."
   ]
  },
  {
   "cell_type": "code",
   "execution_count": null,
   "id": "a7c51b64",
   "metadata": {},
   "outputs": [],
   "source": [
    "# show daily sales visualization\n",
    "tsmd.show_ts()"
   ]
  },
  {
   "cell_type": "markdown",
   "id": "2d83ba01",
   "metadata": {},
   "source": [
    "This graph doesn't give us much hope. We data looks pretty noisy. We can not observe any trend or seasonality that simplify time series predictions. The sales spikes are inconsistent."
   ]
  },
  {
   "cell_type": "markdown",
   "id": "9c8d4c51",
   "metadata": {},
   "source": [
    "### Data evaluation"
   ]
  },
  {
   "cell_type": "markdown",
   "id": "7c22c2f3",
   "metadata": {},
   "source": [
    "To evaluate the model performance we going to use __RMSE score__. This score calculates the absolute error. The lower is RMSE score, the better is model performance. The RMSE score should not be higher than the baseline's model score. __The baseline model__ is the model where all values are the same. In our case it is the average daily sale amount. We going to evaluate our model on the validate set to see if it has good predicting power."
   ]
  },
  {
   "cell_type": "code",
   "execution_count": null,
   "id": "cc33bcfd",
   "metadata": {},
   "outputs": [],
   "source": [
    "# show the baseline value\n",
    "tsmd.baseline"
   ]
  },
  {
   "cell_type": "code",
   "execution_count": null,
   "id": "bef9676d",
   "metadata": {},
   "outputs": [],
   "source": [
    "# evaluate and plot baseline\n",
    "tsmd.evaluate()"
   ]
  },
  {
   "cell_type": "markdown",
   "id": "742f5611",
   "metadata": {},
   "source": [
    "Because we don't observe any trend in our data we can not use Holt's Linear Trend models. We decided to try ARIMA models, that rely on moving average and stationarity of the data. The results of ARIMA models you can see below."
   ]
  },
  {
   "cell_type": "code",
   "execution_count": null,
   "id": "3f37e039",
   "metadata": {},
   "outputs": [],
   "source": [
    "# create ARIMA models and show their scores\n",
    "tsmd.create_arima_models()"
   ]
  },
  {
   "cell_type": "markdown",
   "id": "308945d8",
   "metadata": {},
   "source": [
    "The first three models beat baseline score but just by a little bit, and they definately are not good."
   ]
  },
  {
   "cell_type": "markdown",
   "id": "d237c9d9",
   "metadata": {},
   "source": [
    "The next step we took is building regression model with XGBoost Regressor. "
   ]
  },
  {
   "cell_type": "code",
   "execution_count": null,
   "id": "055f49a8",
   "metadata": {},
   "outputs": [],
   "source": [
    "# create XGBoost model\n",
    "tsmd.run_xgboost()"
   ]
  },
  {
   "cell_type": "markdown",
   "id": "1663b3da",
   "metadata": {},
   "source": [
    "XGBosst Regressor model beats the baseline's RMSE score and outperformes all other models that we've created. We are going to use XGBoost Regressor for our test data set."
   ]
  },
  {
   "cell_type": "code",
   "execution_count": null,
   "id": "82fbba5d",
   "metadata": {
    "scrolled": true
   },
   "outputs": [],
   "source": [
    "# show scores and predictions of the test set\n",
    "tsmd.run_test_model()"
   ]
  },
  {
   "cell_type": "markdown",
   "id": "22f9fc3a",
   "metadata": {},
   "source": [
    "#### Modeling summary"
   ]
  },
  {
   "cell_type": "markdown",
   "id": "579dda9b",
   "metadata": {},
   "source": [
    "- Our model beats a baseline on all train, validation and test sets. Anyway, there is much more work to do. We'd like to improve results by making weekly/monthly resamples hoping find some seasonality. We'd like to remove the some pandemic sales anomalies as well. If this won't improve model performance, our next step is going to be splitting data on 5 different sets based on the customer type and make predictions for every set."
   ]
  },
  {
   "cell_type": "markdown",
   "id": "c793db2e",
   "metadata": {},
   "source": [
    "<h3 style=\"color:#2596be;\">Conclusions and next steps</h3> "
   ]
  },
  {
   "cell_type": "markdown",
   "id": "4e543445",
   "metadata": {},
   "source": [
    "The goals of this project were:\n",
    "- Explore the historical data of the DIR contracts with Cisco. \n",
    "- Create a model for the sales forecast of Cisco with public agencies.\n",
    "\n",
    "Our model performs better than a baseline model but needs some improvents."
   ]
  },
  {
   "cell_type": "markdown",
   "id": "cb12e100",
   "metadata": {},
   "source": [
    "As the next step for this project we'd like to:\n",
    "- create weekly/monthly resamples hoping find some seasonality and trends\n",
    "- remove the some pandemic sales anomalies as well\n",
    "\n",
    "or, as final step\n",
    "- split data on 5 different sets based on the customer type and mae predictions for every set."
   ]
  }
 ],
 "metadata": {
  "kernelspec": {
   "display_name": "Python 3 (ipykernel)",
   "language": "python",
   "name": "python3"
  },
  "language_info": {
   "codemirror_mode": {
    "name": "ipython",
    "version": 3
   },
   "file_extension": ".py",
   "mimetype": "text/x-python",
   "name": "python",
   "nbconvert_exporter": "python",
   "pygments_lexer": "ipython3",
   "version": "3.9.12"
  },
  "vscode": {
   "interpreter": {
    "hash": "3067ead486e059ec00ffe7555bdb889e6e264a24dc711bf108106cc7baee8d5d"
   }
  }
 },
 "nbformat": 4,
 "nbformat_minor": 5
}
