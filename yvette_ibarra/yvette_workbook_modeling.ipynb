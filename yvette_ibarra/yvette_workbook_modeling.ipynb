{
 "cells": [
  {
   "cell_type": "markdown",
   "id": "f3956ec5",
   "metadata": {},
   "source": [
    "# modeling"
   ]
  },
  {
   "cell_type": "code",
   "execution_count": 1,
   "id": "89f9a840",
   "metadata": {},
   "outputs": [],
   "source": [
    "\n",
    "import pandas as pd\n",
    "import wrangle as wr\n",
    "import summaries as s\n",
    "from importlib import reload\n",
    "import numpy as np\n",
    "from sklearn.preprocessing import OneHotEncoder, OrdinalEncoder, LabelEncoder\n",
    "import statsmodels.api as sm\n",
    "from math import sqrt\n",
    "import warnings\n",
    "warnings.filterwarnings('ignore')\n",
    "from sklearn.metrics import mean_squared_error\n",
    "import scipy.stats as stats\n",
    "\n",
    "import matplotlib.pyplot as plt\n",
    "import seaborn as sns\n",
    "plt.style.use(\"seaborn-whitegrid\")\n",
    "plt.rc(\n",
    "    \"figure\",\n",
    "    autolayout=True,\n",
    "    figsize=(11, 4),\n",
    "    titlesize=18,\n",
    "    titleweight='bold',\n",
    ")\n",
    "plt.rc(\n",
    "    \"axes\",\n",
    "    labelweight=\"bold\",\n",
    "    labelsize=\"large\",\n",
    "    titleweight=\"bold\",\n",
    "    titlesize=16,\n",
    "    titlepad=10,\n",
    ")\n",
    "%config InlineBackend.figure_format = 'retina'\n",
    "\n",
    "pd.options.display.float_format = '{:,.2f}'.format"
   ]
  },
  {
   "cell_type": "code",
   "execution_count": 2,
   "id": "1ff29abb",
   "metadata": {},
   "outputs": [],
   "source": [
    "df = wr.get_clean_data(start2018=False)\n",
    "sdf = s.get_summary_df(df)\n",
    "sdf = wr.add_date_features(sdf)"
   ]
  },
  {
   "cell_type": "code",
   "execution_count": 3,
   "id": "2277345e",
   "metadata": {
    "scrolled": false
   },
   "outputs": [
    {
     "data": {
      "text/plain": [
       "(372837, 20)"
      ]
     },
     "execution_count": 3,
     "metadata": {},
     "output_type": "execute_result"
    }
   ],
   "source": [
    "df.shape"
   ]
  },
  {
   "cell_type": "code",
   "execution_count": 8,
   "id": "2096618d",
   "metadata": {},
   "outputs": [
    {
     "data": {
      "text/plain": [
       "order_date\n",
       "2015    20596\n",
       "2016    39198\n",
       "2017    51157\n",
       "2018    55843\n",
       "2019    63452\n",
       "2020    66299\n",
       "2021    49931\n",
       "2022    26361\n",
       "dtype: int64"
      ]
     },
     "execution_count": 8,
     "metadata": {},
     "output_type": "execute_result"
    }
   ],
   "source": [
    "df.groupby(lambda x: x.year).size()"
   ]
  },
  {
   "cell_type": "markdown",
   "id": "964a9136",
   "metadata": {},
   "source": [
    "### Spit For modeling"
   ]
  },
  {
   "cell_type": "code",
   "execution_count": 9,
   "id": "402e5f44",
   "metadata": {},
   "outputs": [],
   "source": [
    "train, test = wr.split_data(df)"
   ]
  },
  {
   "cell_type": "code",
   "execution_count": 10,
   "id": "1b840a8d",
   "metadata": {},
   "outputs": [],
   "source": [
    "validate = test.loc[:'2022-06'].copy() \n",
    "test = test.loc['2022-07':]"
   ]
  },
  {
   "cell_type": "code",
   "execution_count": 11,
   "id": "46d7248f",
   "metadata": {
    "scrolled": true
   },
   "outputs": [
    {
     "data": {
      "text/html": [
       "<div>\n",
       "<style scoped>\n",
       "    .dataframe tbody tr th:only-of-type {\n",
       "        vertical-align: middle;\n",
       "    }\n",
       "\n",
       "    .dataframe tbody tr th {\n",
       "        vertical-align: top;\n",
       "    }\n",
       "\n",
       "    .dataframe thead th {\n",
       "        text-align: right;\n",
       "    }\n",
       "</style>\n",
       "<table border=\"1\" class=\"dataframe\">\n",
       "  <thead>\n",
       "    <tr style=\"text-align: right;\">\n",
       "      <th></th>\n",
       "      <th>customer_name</th>\n",
       "      <th>customer_type</th>\n",
       "      <th>customer_city</th>\n",
       "      <th>reseller_name</th>\n",
       "      <th>reseller_city</th>\n",
       "      <th>customer_zip</th>\n",
       "      <th>order_quantity</th>\n",
       "      <th>unit_price</th>\n",
       "      <th>po_number</th>\n",
       "      <th>shipped_date</th>\n",
       "      <th>order_date_copy</th>\n",
       "      <th>month_name</th>\n",
       "      <th>day_name</th>\n",
       "      <th>year</th>\n",
       "      <th>quarter</th>\n",
       "      <th>month</th>\n",
       "      <th>week</th>\n",
       "      <th>day_of_week</th>\n",
       "      <th>day_of_year</th>\n",
       "      <th>purchase_amount</th>\n",
       "    </tr>\n",
       "    <tr>\n",
       "      <th>order_date</th>\n",
       "      <th></th>\n",
       "      <th></th>\n",
       "      <th></th>\n",
       "      <th></th>\n",
       "      <th></th>\n",
       "      <th></th>\n",
       "      <th></th>\n",
       "      <th></th>\n",
       "      <th></th>\n",
       "      <th></th>\n",
       "      <th></th>\n",
       "      <th></th>\n",
       "      <th></th>\n",
       "      <th></th>\n",
       "      <th></th>\n",
       "      <th></th>\n",
       "      <th></th>\n",
       "      <th></th>\n",
       "      <th></th>\n",
       "      <th></th>\n",
       "    </tr>\n",
       "  </thead>\n",
       "  <tbody>\n",
       "    <tr>\n",
       "      <th>2022-06-30</th>\n",
       "      <td>Texas Parks and Wildlife Department</td>\n",
       "      <td>State Agency</td>\n",
       "      <td>Austin</td>\n",
       "      <td>Presidio Networked Solutions Group, LLC</td>\n",
       "      <td>Irving</td>\n",
       "      <td>78,744.00</td>\n",
       "      <td>8.00</td>\n",
       "      <td>50.12</td>\n",
       "      <td>20520</td>\n",
       "      <td>2022-07-19</td>\n",
       "      <td>2022-06-30</td>\n",
       "      <td>June</td>\n",
       "      <td>Thursday</td>\n",
       "      <td>2022</td>\n",
       "      <td>2</td>\n",
       "      <td>6</td>\n",
       "      <td>26</td>\n",
       "      <td>3</td>\n",
       "      <td>181</td>\n",
       "      <td>400.96</td>\n",
       "    </tr>\n",
       "    <tr>\n",
       "      <th>2022-07-01</th>\n",
       "      <td>City of Cleburne</td>\n",
       "      <td>Local Government</td>\n",
       "      <td>Cleburne</td>\n",
       "      <td>Sequel Data Systems, Inc.</td>\n",
       "      <td>Austin</td>\n",
       "      <td>76031</td>\n",
       "      <td>1.00</td>\n",
       "      <td>432.90</td>\n",
       "      <td>0138-06302022-01</td>\n",
       "      <td>2022-07-06</td>\n",
       "      <td>2022-07-01</td>\n",
       "      <td>July</td>\n",
       "      <td>Friday</td>\n",
       "      <td>2022</td>\n",
       "      <td>3</td>\n",
       "      <td>7</td>\n",
       "      <td>26</td>\n",
       "      <td>4</td>\n",
       "      <td>182</td>\n",
       "      <td>432.90</td>\n",
       "    </tr>\n",
       "  </tbody>\n",
       "</table>\n",
       "</div>"
      ],
      "text/plain": [
       "                                  customer_name     customer_type  \\\n",
       "order_date                                                          \n",
       "2022-06-30  Texas Parks and Wildlife Department      State Agency   \n",
       "2022-07-01                     City of Cleburne  Local Government   \n",
       "\n",
       "           customer_city                            reseller_name  \\\n",
       "order_date                                                          \n",
       "2022-06-30        Austin  Presidio Networked Solutions Group, LLC   \n",
       "2022-07-01      Cleburne                Sequel Data Systems, Inc.   \n",
       "\n",
       "           reseller_city customer_zip  order_quantity  unit_price  \\\n",
       "order_date                                                          \n",
       "2022-06-30        Irving    78,744.00            8.00       50.12   \n",
       "2022-07-01        Austin        76031            1.00      432.90   \n",
       "\n",
       "                   po_number shipped_date order_date_copy month_name  \\\n",
       "order_date                                                             \n",
       "2022-06-30             20520   2022-07-19      2022-06-30       June   \n",
       "2022-07-01  0138-06302022-01   2022-07-06      2022-07-01       July   \n",
       "\n",
       "            day_name  year  quarter  month  week  day_of_week  day_of_year  \\\n",
       "order_date                                                                   \n",
       "2022-06-30  Thursday  2022        2      6    26            3          181   \n",
       "2022-07-01    Friday  2022        3      7    26            4          182   \n",
       "\n",
       "            purchase_amount  \n",
       "order_date                   \n",
       "2022-06-30           400.96  \n",
       "2022-07-01           432.90  "
      ]
     },
     "execution_count": 11,
     "metadata": {},
     "output_type": "execute_result"
    }
   ],
   "source": [
    "pd.concat([validate.tail(1), test.head(1)])"
   ]
  },
  {
   "cell_type": "code",
   "execution_count": 12,
   "id": "00f916a3",
   "metadata": {},
   "outputs": [],
   "source": [
    "X_train = pd.DataFrame(train.purchase_amount.copy().resample('D').sum())\n",
    "X_validate = pd.DataFrame(validate.purchase_amount.copy().resample('D').sum())\n",
    "X_test = pd.DataFrame(test.purchase_amount.copy().resample('D').sum())"
   ]
  },
  {
   "cell_type": "code",
   "execution_count": null,
   "id": "cca05053",
   "metadata": {},
   "outputs": [],
   "source": [
    "ts = X_train.copy()\n",
    "ts.plot()"
   ]
  },
  {
   "cell_type": "code",
   "execution_count": null,
   "id": "ef3f951b",
   "metadata": {},
   "outputs": [],
   "source": [
    "baseline = X_train.purchase_amount.mean()"
   ]
  },
  {
   "cell_type": "code",
   "execution_count": null,
   "id": "b83999ee",
   "metadata": {
    "scrolled": true
   },
   "outputs": [],
   "source": [
    "plt.figure(figsize=(14,8))\n",
    "plt.plot(X_train)\n",
    "plt.plot(X_validate)\n",
    "plt.plot(X_test)\n",
    "plt.ylabel(col)\n",
    "plt.title(col)\n",
    "plt.show()\n"
   ]
  },
  {
   "cell_type": "markdown",
   "id": "3728a5d0",
   "metadata": {},
   "source": [
    "### evaluate"
   ]
  },
  {
   "cell_type": "code",
   "execution_count": null,
   "id": "b9f0e245",
   "metadata": {},
   "outputs": [],
   "source": [
    "def evaluate(target_var):\n",
    "    '''\n",
    "    This function will take the actual values of the target_var from validate, \n",
    "    and the predicted values stored in yhat_df, \n",
    "    and compute the rmse, rounding to 0 decimal places. \n",
    "    it will return the rmse. \n",
    "    '''\n",
    "    rmse = round(sqrt(mean_squared_error(validate[target_var], yhat_df[target_var])), 0)\n",
    "    return rmse"
   ]
  },
  {
   "cell_type": "code",
   "execution_count": null,
   "id": "e981e406",
   "metadata": {},
   "outputs": [],
   "source": [
    "def plot_and_eval(target_var):\n",
    "    '''\n",
    "    This function takes in the target var name (string), and returns a plot\n",
    "    of the values of train for that variable, validate, and the predicted values from yhat_df. \n",
    "    it will als lable the rmse. \n",
    "    '''\n",
    "    plt.figure(figsize = (12,4))\n",
    "    plt.plot(train[target_var], label='Train', linewidth=1)\n",
    "    plt.plot(validate[target_var], label='Validate', linewidth=1)\n",
    "    plt.plot(yhat_df[target_var])\n",
    "    plt.title(target_var)\n",
    "    rmse = evaluate(target_var)\n",
    "    print(target_var, '-- RMSE: {:.0f}'.format(rmse))\n",
    "    plt.show()"
   ]
  },
  {
   "cell_type": "code",
   "execution_count": null,
   "id": "92c7d7c0",
   "metadata": {},
   "outputs": [],
   "source": [
    "# empty dataframe\n",
    "eval_df = pd.DataFrame(columns=['model_type', 'target_var', 'rmse'])\n",
    "eval_df\n"
   ]
  },
  {
   "cell_type": "code",
   "execution_count": null,
   "id": "f9b02362",
   "metadata": {},
   "outputs": [],
   "source": [
    "# function to store the rmse so that we can compare\n",
    "def append_eval_df(model_type, target_var):\n",
    "    '''\n",
    "    this function takes in as arguments the type of model run, and the name of the target variable. \n",
    "    It returns the eval_df with the rmse appended to it for that model and target_var. \n",
    "    '''\n",
    "    rmse = evaluate(target_var)\n",
    "    d = {'model_type': [model_type], 'target_var': [target_var],\n",
    "        'rmse': [rmse]}\n",
    "    d = pd.DataFrame(d)\n",
    "    return eval_df.append(d, ignore_index = True)"
   ]
  },
  {
   "cell_type": "markdown",
   "id": "3721d23f",
   "metadata": {},
   "source": [
    "### Simple Average"
   ]
  },
  {
   "cell_type": "code",
   "execution_count": null,
   "id": "21bf9ee2",
   "metadata": {},
   "outputs": [],
   "source": [
    "# compute simple average\n",
    "purchase_amount = round(X_train.purchase_amount.mean(), 2)\n",
    "purchase_amount"
   ]
  },
  {
   "cell_type": "code",
   "execution_count": null,
   "id": "d75fb623",
   "metadata": {},
   "outputs": [],
   "source": [
    "def make_predictions(sales=None, quantity=None):\n",
    "    yhat_df = pd.DataFrame({'purchase_amount': [purchase_amount],},\n",
    "                          index=X_validate.index)\n",
    "    return yhat_df"
   ]
  },
  {
   "cell_type": "code",
   "execution_count": null,
   "id": "91a37728",
   "metadata": {},
   "outputs": [],
   "source": [
    "yhat_df = make_predictions(purchase_amount)\n",
    "yhat_df.head()"
   ]
  },
  {
   "cell_type": "code",
   "execution_count": null,
   "id": "2b596ed8",
   "metadata": {},
   "outputs": [],
   "source": [
    "mean_squared_error(X_validate.purchase_amount, yhat_df.purchase_amount)"
   ]
  },
  {
   "cell_type": "code",
   "execution_count": null,
   "id": "b007adf1",
   "metadata": {
    "scrolled": false
   },
   "outputs": [],
   "source": [
    "plot_and_eval(\"purchase_amount\")"
   ]
  },
  {
   "cell_type": "code",
   "execution_count": null,
   "id": "9edc2c61",
   "metadata": {},
   "outputs": [],
   "source": [
    "eval_df = append_eval_df(model_type='simple_averave', \n",
    "                        target_var = 'purchase_amount')\n",
    "eval_df"
   ]
  },
  {
   "cell_type": "code",
   "execution_count": null,
   "id": "251af634",
   "metadata": {},
   "outputs": [],
   "source": [
    "X_train.shape"
   ]
  },
  {
   "cell_type": "code",
   "execution_count": null,
   "id": "753fff6a",
   "metadata": {},
   "outputs": [],
   "source": []
  }
 ],
 "metadata": {
  "kernelspec": {
   "display_name": "Python 3 (ipykernel)",
   "language": "python",
   "name": "python3"
  },
  "language_info": {
   "codemirror_mode": {
    "name": "ipython",
    "version": 3
   },
   "file_extension": ".py",
   "mimetype": "text/x-python",
   "name": "python",
   "nbconvert_exporter": "python",
   "pygments_lexer": "ipython3",
   "version": "3.9.12"
  }
 },
 "nbformat": 4,
 "nbformat_minor": 5
}
