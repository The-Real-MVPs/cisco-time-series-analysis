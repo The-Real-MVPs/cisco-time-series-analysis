{
 "cells": [
  {
   "cell_type": "markdown",
   "id": "61fe7c58",
   "metadata": {},
   "source": [
    "# 2nd workbook"
   ]
  },
  {
   "cell_type": "code",
   "execution_count": 1,
   "id": "47a97284",
   "metadata": {},
   "outputs": [],
   "source": [
    "import pandas as pd\n",
    "import numpy as np\n",
    "import os \n",
    "import statsmodels.api as sm\n",
    "\n",
    "import warnings\n",
    "warnings.filterwarnings('ignore')\n",
    "\n",
    "import matplotlib.pyplot as plt\n",
    "import seaborn as sns\n",
    "plt.style.use(\"seaborn-whitegrid\")\n",
    "plt.rc(\n",
    "    \"figure\",\n",
    "    autolayout=True,\n",
    "    figsize=(11, 4),\n",
    "    titlesize=18,\n",
    "    titleweight='bold',\n",
    ")\n",
    "plt.rc(\n",
    "    \"axes\",\n",
    "    labelweight=\"bold\",\n",
    "    labelsize=\"large\",\n",
    "    titleweight=\"bold\",\n",
    "    titlesize=16,\n",
    "    titlepad=10,\n",
    ")\n",
    "%config InlineBackend.figure_format = 'retina'\n",
    "\n",
    "pd.options.display.float_format = '{:,.2f}'.format"
   ]
  },
  {
   "cell_type": "code",
   "execution_count": 2,
   "id": "0ec4d4b6",
   "metadata": {},
   "outputs": [],
   "source": [
    "from importlib import reload"
   ]
  },
  {
   "cell_type": "code",
   "execution_count": 3,
   "id": "c0f5dff7",
   "metadata": {},
   "outputs": [],
   "source": [
    "import wrangle as wr\n",
    "import summaries as su\n",
    "import model as m"
   ]
  },
  {
   "cell_type": "code",
   "execution_count": 4,
   "id": "0bbeb1b9",
   "metadata": {},
   "outputs": [],
   "source": [
    "df = wr.get_clean_data(start2018=True)"
   ]
  },
  {
   "cell_type": "code",
   "execution_count": 5,
   "id": "4335b963",
   "metadata": {},
   "outputs": [],
   "source": [
    "train, test = wr.split_data(df)"
   ]
  },
  {
   "cell_type": "code",
   "execution_count": null,
   "id": "61e97f09",
   "metadata": {
    "scrolled": true
   },
   "outputs": [],
   "source": [
    "train"
   ]
  },
  {
   "cell_type": "code",
   "execution_count": null,
   "id": "c15f5250",
   "metadata": {},
   "outputs": [],
   "source": [
    "# take a look at value counts\n",
    "columns = df.columns.to_list()\n",
    "for i in columns:\n",
    "    print(f'--------{i}-------')\n",
    "    print(df[i].value_counts())\n",
    "    print('___________________')\n",
    "    "
   ]
  },
  {
   "cell_type": "code",
   "execution_count": null,
   "id": "b91f5359",
   "metadata": {},
   "outputs": [],
   "source": [
    "def create_customertype_subgroups(train):\n",
    "    \n",
    "    types = train[['purchase_amount','customer_type']]\n",
    "    k_12= types[types[\"customer_type\"]=='K-12']\n",
    "    local_gov = types[types[\"customer_type\"]=='Local Government']\n",
    "    state_agency = types[types[\"customer_type\"]=='State Agency']\n",
    "    higher_ed = types[types[\"customer_type\"]=='Higher Ed']\n",
    "    other = types[types['customer_type']=='Other']\n",
    "    \n",
    "    return k_12, local_gov, state_agency, higher_ed, other"
   ]
  },
  {
   "cell_type": "code",
   "execution_count": null,
   "id": "e94685b8",
   "metadata": {},
   "outputs": [],
   "source": [
    "k_12, local_gov, state_agency, higher_ed, other = create_customertype_subgroups(train)"
   ]
  },
  {
   "cell_type": "code",
   "execution_count": null,
   "id": "f912f108",
   "metadata": {
    "scrolled": true
   },
   "outputs": [],
   "source": [
    "k_12"
   ]
  },
  {
   "cell_type": "markdown",
   "id": "69ced2d0",
   "metadata": {},
   "source": [
    "# Explore subgroups"
   ]
  },
  {
   "cell_type": "code",
   "execution_count": null,
   "id": "99ffe4d9",
   "metadata": {},
   "outputs": [],
   "source": [
    "df"
   ]
  },
  {
   "cell_type": "code",
   "execution_count": null,
   "id": "ad76570f",
   "metadata": {},
   "outputs": [],
   "source": [
    "k_12.index"
   ]
  },
  {
   "cell_type": "code",
   "execution_count": null,
   "id": "de6bb87c",
   "metadata": {
    "scrolled": true
   },
   "outputs": [],
   "source": [
    "k_12.isnull().sum()"
   ]
  },
  {
   "cell_type": "code",
   "execution_count": null,
   "id": "26b5f0dc",
   "metadata": {},
   "outputs": [],
   "source": [
    "k_12.isnull().sum()"
   ]
  },
  {
   "cell_type": "code",
   "execution_count": null,
   "id": "dc42221c",
   "metadata": {},
   "outputs": [],
   "source": [
    "def get_timeseries_plus(df):\n",
    "    print(pd.plotting.autocorrelation_plot(df.resample('W').mean()))\n",
    "    print (df.groupby([df.index.year, df.index.month]).mean().unstack(0).plot())\n",
    "    print(df.groupby([df.index.year, df.index.day]).mean().unstack(0).plot())\n",
    "    y = df.resample('W').mean()\n",
    "\n",
    "    result = sm.tsa.seasonal_decompose(y)\n",
    "    print(result.plot())"
   ]
  },
  {
   "cell_type": "code",
   "execution_count": null,
   "id": "6fc9aa5a",
   "metadata": {},
   "outputs": [],
   "source": [
    "get_timeseries_plus(k_12)"
   ]
  },
  {
   "cell_type": "code",
   "execution_count": null,
   "id": "62dd6950",
   "metadata": {
    "scrolled": true
   },
   "outputs": [],
   "source": [
    "su.get_customer_type_summary(train)"
   ]
  },
  {
   "cell_type": "markdown",
   "id": "78aa100a",
   "metadata": {},
   "source": [
    "### time series at a glance"
   ]
  },
  {
   "cell_type": "code",
   "execution_count": null,
   "id": "1ed5ac4c",
   "metadata": {
    "scrolled": true
   },
   "outputs": [],
   "source": [
    "plt.plot(train.index, train.purchase_amount)\n",
    "plt.plot(test.index, test.purchase_amount)"
   ]
  },
  {
   "cell_type": "markdown",
   "id": "cc64d2d2",
   "metadata": {},
   "source": [
    "### distribution of variables"
   ]
  },
  {
   "cell_type": "code",
   "execution_count": null,
   "id": "22679988",
   "metadata": {},
   "outputs": [],
   "source": [
    "def distribution( df, var):\n",
    "    ''' distribution takes in a dataframe and variable and returns a histoplot \n",
    "    that  display the distirbution of the variable'''\n",
    "    # use histplot\n",
    "    sns.histplot(df[var])\n",
    "    #show plot\n",
    "    plt.show();\n"
   ]
  },
  {
   "cell_type": "code",
   "execution_count": null,
   "id": "1836bbea",
   "metadata": {},
   "outputs": [],
   "source": [
    " train.columns.to_list()"
   ]
  },
  {
   "cell_type": "markdown",
   "id": "aa5c48a3",
   "metadata": {},
   "source": [
    "# Average purchased sales/order quantity by month and sum by month"
   ]
  },
  {
   "cell_type": "code",
   "execution_count": null,
   "id": "a67ec2c3",
   "metadata": {
    "scrolled": true
   },
   "outputs": [],
   "source": [
    "ax = train.groupby(train.month).purchase_amount.sum().plot.bar(width=.9, ec='black')\n",
    "plt.xticks(rotation=0)\n",
    "ax.set(title='Sum purchase amount by Month', xlabel='', ylabel='$')\n",
    "plt.show()"
   ]
  },
  {
   "cell_type": "markdown",
   "id": "7718bf0f",
   "metadata": {},
   "source": [
    "### for total sales the month of July seems to be the largest next largest is to April"
   ]
  },
  {
   "cell_type": "code",
   "execution_count": null,
   "id": "e5ccc82a",
   "metadata": {},
   "outputs": [],
   "source": [
    "ax = train.groupby(train.month).purchase_amount.mean().plot.bar(width=.9, ec='black')\n",
    "plt.xticks(rotation=0)\n",
    "ax.set(title='Average purchase amount by Month', xlabel='', ylabel='$')\n",
    "plt.show()"
   ]
  },
  {
   "cell_type": "markdown",
   "id": "687726e6",
   "metadata": {},
   "source": [
    "### for average sales december seems to have the most"
   ]
  },
  {
   "cell_type": "code",
   "execution_count": null,
   "id": "eb62e997",
   "metadata": {
    "scrolled": true
   },
   "outputs": [],
   "source": [
    "train[['purchase_amount','month']].groupby('month').describe()"
   ]
  },
  {
   "cell_type": "code",
   "execution_count": null,
   "id": "f1ee9cc9",
   "metadata": {
    "scrolled": true
   },
   "outputs": [],
   "source": [
    "ax = train.groupby(train.month).order_quantity.mean().plot.bar(width=.9, ec='black')\n",
    "plt.xticks(rotation=0)\n",
    "ax.set(title='Average order quantity by Month', xlabel='', ylabel='quantity')\n",
    "plt.show()"
   ]
  },
  {
   "cell_type": "markdown",
   "id": "9d15a852",
   "metadata": {},
   "source": [
    "### October has  a huge spike in order quantity"
   ]
  },
  {
   "cell_type": "code",
   "execution_count": null,
   "id": "418cec02",
   "metadata": {},
   "outputs": [],
   "source": [
    "ax = train.groupby(train.month).order_quantity.sum().plot.bar(width=.9, ec='black')\n",
    "plt.xticks(rotation=0)\n",
    "ax.set(title='Sum order quantity by Month', xlabel='', ylabel='quantity')\n",
    "plt.show()"
   ]
  },
  {
   "cell_type": "code",
   "execution_count": null,
   "id": "348bc3e1",
   "metadata": {
    "scrolled": true
   },
   "outputs": [],
   "source": [
    "train[['order_quantity','month']].groupby('month').describe()"
   ]
  },
  {
   "cell_type": "code",
   "execution_count": null,
   "id": "3f99d860",
   "metadata": {},
   "outputs": [],
   "source": [
    "sns.boxplot(data = train['2020'], x = 'month', y = 'purchase_amount')"
   ]
  },
  {
   "cell_type": "markdown",
   "id": "6ca99f15",
   "metadata": {},
   "source": [
    "# Question look into 2017-07-24 the day with the largest sale"
   ]
  },
  {
   "cell_type": "code",
   "execution_count": null,
   "id": "2556ef8d",
   "metadata": {},
   "outputs": [],
   "source": [
    "sdf = su.get_summary_df(train)"
   ]
  },
  {
   "cell_type": "code",
   "execution_count": null,
   "id": "2a2c6fef",
   "metadata": {
    "scrolled": true
   },
   "outputs": [],
   "source": [
    "sdf"
   ]
  },
  {
   "cell_type": "code",
   "execution_count": null,
   "id": "b1f0ef37",
   "metadata": {},
   "outputs": [],
   "source": [
    "sdf.loc['2019-07-24'].purchase_amount.sum()"
   ]
  },
  {
   "cell_type": "code",
   "execution_count": null,
   "id": "417ead76",
   "metadata": {
    "scrolled": true
   },
   "outputs": [],
   "source": [
    "sdf.loc['2019-07-24'].groupby('customer_type').sum()"
   ]
  },
  {
   "cell_type": "markdown",
   "id": "f9f7d8a7",
   "metadata": {},
   "source": [
    "### there was a large sale done my the k-12 group"
   ]
  },
  {
   "cell_type": "code",
   "execution_count": null,
   "id": "e45ae050",
   "metadata": {},
   "outputs": [],
   "source": [
    "k_12_max = train[(train.customer_type=='K-12')&(train.order_date_copy=='2019-07-24')]"
   ]
  },
  {
   "cell_type": "code",
   "execution_count": null,
   "id": "873bb1d6",
   "metadata": {
    "scrolled": true
   },
   "outputs": [],
   "source": [
    "k_12_max.groupby('customer_name').sum()"
   ]
  },
  {
   "cell_type": "markdown",
   "id": "16db1066",
   "metadata": {},
   "source": [
    "# Question: look into the day with the largest order date...right before pandemic"
   ]
  },
  {
   "cell_type": "code",
   "execution_count": null,
   "id": "1cc96fba",
   "metadata": {},
   "outputs": [],
   "source": [
    "sdf2 = su.get_summary_df(train)"
   ]
  },
  {
   "cell_type": "code",
   "execution_count": null,
   "id": "a8a3e9e4",
   "metadata": {},
   "outputs": [],
   "source": [
    "sdf2.loc['2020-01-02']"
   ]
  },
  {
   "cell_type": "code",
   "execution_count": null,
   "id": "78192d54",
   "metadata": {},
   "outputs": [],
   "source": [
    "def get_summary_orders_df(df):\n",
    "    '''\n",
    "    Groups by order date, customer name, customer type, customer city and reseller name.\n",
    "    Calculates the purchase amount by the end. of the day\n",
    "    \n",
    "    Parameters:\n",
    "        df: pandas data frame with the data pulled from DIR site\n",
    "    Returns:\n",
    "        pd.DataFrame with the sum of the purchase amount by the end of the day for every company\n",
    "    '''\n",
    "    summary_df = pd.DataFrame()\n",
    "    if 'order_date_copy' in df.columns:\n",
    "        summary_df = df.groupby(by=\\\n",
    "                        ['order_date_copy', 'customer_name', 'customer_type', 'customer_city', 'reseller_name', 'shipped_date'])\\\n",
    "                        .order_quantity.sum().to_frame().reset_index()\n",
    "        summary_df.rename(columns={'order_date_copy':'order_date'}, inplace=True)\n",
    "        summary_df = summary_df.set_index('order_date').sort_index()\n",
    "    elif 'order_date' in df.columns:\n",
    "        summary_df = df.groupby(by=\\\n",
    "                        ['order_date', 'customer_name', 'customer_type', 'customer_city', 'reseller_name', 'shipped_date'])\\\n",
    "                        .purchase_amount.sum().to_frame().reset_index()\n",
    "        summary_df = summary_df.set_index('order_date').sort_index()  \n",
    "    return summary_df"
   ]
  },
  {
   "cell_type": "code",
   "execution_count": null,
   "id": "5c2f113d",
   "metadata": {},
   "outputs": [],
   "source": [
    "orders = get_summary_orders_df(train)"
   ]
  },
  {
   "cell_type": "code",
   "execution_count": null,
   "id": "8759483a",
   "metadata": {},
   "outputs": [],
   "source": [
    "orders.loc['2020-01-02']"
   ]
  },
  {
   "cell_type": "markdown",
   "id": "9aef7a5a",
   "metadata": {},
   "source": [
    "# modeling prep"
   ]
  },
  {
   "cell_type": "code",
   "execution_count": 6,
   "id": "dd5a7c83",
   "metadata": {},
   "outputs": [],
   "source": [
    "from sklearn.linear_model import LinearRegression\n",
    "from sklearn.ensemble import RandomForestRegressor\n",
    "from sklearn.model_selection import train_test_split\n",
    "from sklearn.metrics import mean_squared_error\n",
    "from math import sqrt\n",
    "from sklearn.model_selection import GridSearchCV\n",
    "from sklearn.model_selection import RandomizedSearchCV\n",
    "import warnings\n",
    "warnings.filterwarnings('ignore')\n",
    "from sklearn.preprocessing import OneHotEncoder"
   ]
  },
  {
   "cell_type": "code",
   "execution_count": null,
   "id": "8557f961",
   "metadata": {},
   "outputs": [],
   "source": [
    "df = wr.split_data(df, explore=False)"
   ]
  },
  {
   "cell_type": "code",
   "execution_count": null,
   "id": "c03aef4a",
   "metadata": {},
   "outputs": [],
   "source": [
    "train_series= train['purchase_amount']"
   ]
  },
  {
   "cell_type": "markdown",
   "id": "c55c2973",
   "metadata": {},
   "source": [
    "### create model dataframe"
   ]
  },
  {
   "cell_type": "code",
   "execution_count": null,
   "id": "072e1e80",
   "metadata": {},
   "outputs": [],
   "source": [
    "X_train"
   ]
  },
  {
   "cell_type": "code",
   "execution_count": null,
   "id": "d2b4f7a5",
   "metadata": {},
   "outputs": [],
   "source": [
    "model_df = df[['purchase_amount']]"
   ]
  },
  {
   "cell_type": "code",
   "execution_count": 324,
   "id": "75db4943",
   "metadata": {
    "scrolled": true
   },
   "outputs": [
    {
     "data": {
      "text/plain": [
       "<AxesSubplot:xlabel='order_date'>"
      ]
     },
     "execution_count": 324,
     "metadata": {},
     "output_type": "execute_result"
    },
    {
     "data": {
      "image/png": "[encoded data removed]",
      "text/plain": [
       "<Figure size 864x576 with 1 Axes>"
      ]
     },
     "metadata": {
      "image/png": {
       "height": 568,
       "width": 856
      }
     },
     "output_type": "display_data"
    }
   ],
   "source": [
    "df.purchase_amount.plot(figsize=(12,8))"
   ]
  },
  {
   "cell_type": "code",
   "execution_count": null,
   "id": "3f176894",
   "metadata": {},
   "outputs": [],
   "source": [
    "model_df_weekly= model_df.resample(\"D\").mean()"
   ]
  },
  {
   "cell_type": "code",
   "execution_count": null,
   "id": "d7ef8a94",
   "metadata": {
    "scrolled": false
   },
   "outputs": [],
   "source": [
    "model_df_weekly.plot(figsize=(12,8));"
   ]
  },
  {
   "cell_type": "code",
   "execution_count": null,
   "id": "23edd172",
   "metadata": {},
   "outputs": [],
   "source": []
  },
  {
   "cell_type": "code",
   "execution_count": null,
   "id": "84f4cb51",
   "metadata": {
    "scrolled": true
   },
   "outputs": [],
   "source": [
    "model_df_weekly"
   ]
  },
  {
   "cell_type": "code",
   "execution_count": null,
   "id": "5a600baa",
   "metadata": {},
   "outputs": [],
   "source": [
    "model_df_weekly['sale_last_week'] = model_df_weekly['purchase_amount'].shift(1)\n",
    "model_df_weekly['sale_2weeks_back'] = model_df_weekly.purchase_amount.shift(2)\n",
    "model_df_weekly['sale_3weeks_back'] = model_df_weekly.purchase_amount.shift(3)"
   ]
  },
  {
   "cell_type": "code",
   "execution_count": null,
   "id": "0472672f",
   "metadata": {
    "scrolled": false
   },
   "outputs": [],
   "source": [
    "# train\n",
    "#model_df_weekly[3:-101]\n",
    "# validate\n",
    "#model_df_weekly[\"2021\"]\n",
    "# test\n",
    "#model_df_weekly[-49:]"
   ]
  },
  {
   "cell_type": "code",
   "execution_count": null,
   "id": "1783e607",
   "metadata": {},
   "outputs": [],
   "source": []
  },
  {
   "cell_type": "code",
   "execution_count": null,
   "id": "99422a25",
   "metadata": {},
   "outputs": [],
   "source": [
    "model_df_weekly"
   ]
  },
  {
   "cell_type": "code",
   "execution_count": null,
   "id": "804b4689",
   "metadata": {},
   "outputs": [],
   "source": [
    "lin_model = LinearRegression()\n",
    "model = RandomForestRegressor(max_depth=50, max_features='sqrt', min_samples_leaf=4,\n",
    "                      min_samples_split=10, n_estimators=400, random_state=123)"
   ]
  },
  {
   "cell_type": "code",
   "execution_count": null,
   "id": "fe7721a9",
   "metadata": {
    "scrolled": true
   },
   "outputs": [],
   "source": [
    "best_random"
   ]
  },
  {
   "cell_type": "code",
   "execution_count": 50,
   "id": "22b89002",
   "metadata": {
    "scrolled": true
   },
   "outputs": [
    {
     "data": {
      "text/plain": [
       "(235525, 20)"
      ]
     },
     "execution_count": 50,
     "metadata": {},
     "output_type": "execute_result"
    }
   ],
   "source": [
    "train.shape"
   ]
  },
  {
   "cell_type": "markdown",
   "id": "a6d9bdbb",
   "metadata": {},
   "source": [
    "### split for train test"
   ]
  },
  {
   "cell_type": "code",
   "execution_count": null,
   "id": "5fe5a2b2",
   "metadata": {},
   "outputs": [],
   "source": [
    "x1,x2,x3,y = x1.reshape(-1, 1),  x2.reshape(-1, 1), x3.reshape(-1, 1),y.reshape(-1, 1)"
   ]
  },
  {
   "cell_type": "code",
   "execution_count": null,
   "id": "25aa3478",
   "metadata": {},
   "outputs": [],
   "source": [
    "y=np.array(model_df_weekly.purchase_amount)\n",
    "x1,x2,x3 = np.array(model_df_weekly.sale_last_week), np.array(model_df_weekly.sale_2weeks_back), np.array(model_df_weekly.sale_3weeks_back)"
   ]
  },
  {
   "cell_type": "code",
   "execution_count": null,
   "id": "654f1bba",
   "metadata": {},
   "outputs": [],
   "source": [
    "final_x = np.concatenate((x1,x2,x3), axis = 1)\n"
   ]
  },
  {
   "cell_type": "code",
   "execution_count": null,
   "id": "32cc39a6",
   "metadata": {},
   "outputs": [],
   "source": [
    "# modeling\n",
    "X_train, y_train, X_test, y_test = m.modeling_preprocessing(df, columns_to_keep=['customer_type', 'month_name','day_name', 'quarter'], regression=False, np_array=False)"
   ]
  },
  {
   "cell_type": "code",
   "execution_count": null,
   "id": "c3298482",
   "metadata": {},
   "outputs": [],
   "source": [
    "# cut off all null values start train at index 3\n",
    "X_train, X_val, X_test, y_train,y_val, y_test = final_x[3:-101],final_x[-101:-49],final_x[-49:], y[3:-101],y[-101:-49],y[-49:]"
   ]
  },
  {
   "cell_type": "code",
   "execution_count": null,
   "id": "cef4ce5b",
   "metadata": {},
   "outputs": [],
   "source": [
    "X_train"
   ]
  },
  {
   "cell_type": "code",
   "execution_count": null,
   "id": "5630137b",
   "metadata": {
    "scrolled": true
   },
   "outputs": [],
   "source": [
    "ohe = OneHotEncoder(drop='first', handle_unknown='ignore', sparse=False).fit(X_train)\n",
    "X_train = ohe.transform(X_train)\n",
    "X_test = ohe.transform(X_test)"
   ]
  },
  {
   "cell_type": "code",
   "execution_count": null,
   "id": "a3609f15",
   "metadata": {},
   "outputs": [],
   "source": [
    "# random Forest\n",
    "model.fit(X_train, y_train)\n",
    "# linear regression\n",
    "lin_model.fit(X_train,y_train)"
   ]
  },
  {
   "cell_type": "code",
   "execution_count": null,
   "id": "1f3dc4a8",
   "metadata": {
    "scrolled": true
   },
   "outputs": [],
   "source": [
    "pred=model.predict(X_test)\n",
    "plt.plot(pred, label = 'Random Forest Predictions')\n",
    "plt.plot(y_test, label='Actual sales')\n",
    "plt.legend(loc = 'upper left')\n",
    "plt.show()"
   ]
  },
  {
   "cell_type": "code",
   "execution_count": null,
   "id": "0eebfa7b",
   "metadata": {},
   "outputs": [],
   "source": [
    "# RMSE\n",
    "rmse_randomforest= sqrt(mean_squared_error(pred, y_test))\n",
    "rmse_randomforest"
   ]
  },
  {
   "cell_type": "code",
   "execution_count": null,
   "id": "88f416ac",
   "metadata": {},
   "outputs": [],
   "source": [
    "lin_pred=lin_model.predict(X_test)\n",
    "plt.plot(lin_pred, label = 'Random Forest Predictions')\n",
    "plt.plot(y_test, label='Actual sales')\n",
    "plt.legend(loc = 'upper left')\n",
    "plt.show()"
   ]
  },
  {
   "cell_type": "code",
   "execution_count": null,
   "id": "1dc5ea0d",
   "metadata": {},
   "outputs": [],
   "source": [
    "# RMSE\n",
    "rmse_linear= sqrt(mean_squared_error(lin_pred, y_test))\n",
    "rmse_linear"
   ]
  },
  {
   "cell_type": "markdown",
   "id": "0eee7df5",
   "metadata": {},
   "source": [
    "### with grid search"
   ]
  },
  {
   "cell_type": "code",
   "execution_count": null,
   "id": "222a4e89",
   "metadata": {},
   "outputs": [],
   "source": [
    "# Number of trees in random forest\n",
    "n_estimators = [int(x) for x in np.linspace(start = 200, stop = 2000, num = 10)]\n",
    "# Number of features to consider at every split\n",
    "max_features = ['auto', 'sqrt']\n",
    "# Maximum number of levels in tree\n",
    "max_depth = [int(x) for x in np.linspace(10, 110, num = 11)]\n",
    "max_depth.append(None)\n",
    "# Minimum number of samples required to split a node\n",
    "min_samples_split = [2, 5, 10]\n",
    "# Minimum number of samples required at each leaf node\n",
    "min_samples_leaf = [1, 2, 4]\n",
    "# Method of selecting samples for training each tree\n",
    "bootstrap = [True, False]\n",
    "# Create the random grid\n",
    "random_grid = {'n_estimators': n_estimators,\n",
    "               'max_features': max_features,\n",
    "               'max_depth': max_depth,\n",
    "               'min_samples_split': min_samples_split,\n",
    "               'min_samples_leaf': min_samples_leaf,\n",
    "               'bootstrap': bootstrap}\n",
    "print(random_grid)"
   ]
  },
  {
   "cell_type": "code",
   "execution_count": null,
   "id": "d844b413",
   "metadata": {
    "scrolled": true
   },
   "outputs": [],
   "source": [
    "# Use the random grid to search for best hyperparameters\n",
    "# First create the base model to tune\n",
    "rf = RandomForestRegressor()\n",
    "# Random search of parameters, using 3 fold cross validation, \n",
    "# search across 100 different combinations, and use all available cores\n",
    "rf_random = RandomizedSearchCV(estimator = rf, param_distributions = random_grid, n_iter = 100, cv = 3, verbose=2, random_state=42, n_jobs = -1)\n",
    "# Fit the random search model\n",
    "rf_random.fit(X_train,y_train)"
   ]
  },
  {
   "cell_type": "code",
   "execution_count": null,
   "id": "c9b19c17",
   "metadata": {},
   "outputs": [],
   "source": [
    "def evaluate(model, test_features, test_labels):\n",
    "    predictions = model.predict(test_features)\n",
    "    errors = abs(predictions - test_labels)\n",
    "    mape = 100 * np.mean(errors / test_labels)\n",
    "    accuracy = 100 - mape\n",
    "    print('Model Performance')\n",
    "    print('Average Error: {:0.4f} degrees.'.format(np.mean(errors)))\n",
    "    print('Accuracy = {:0.2f}%.'.format(accuracy))\n",
    "    \n",
    "    return accuracy\n",
    "base_model = RandomForestRegressor(n_estimators = 10, random_state = 42)\n",
    "base_model.fit(X_train, y_train)\n"
   ]
  },
  {
   "cell_type": "code",
   "execution_count": null,
   "id": "df8f87f3",
   "metadata": {},
   "outputs": [],
   "source": [
    "best_random = rf_random.best_estimator_\n",
    "\n",
    "best_random\n",
    "\n"
   ]
  },
  {
   "cell_type": "markdown",
   "id": "6d7191b3",
   "metadata": {},
   "source": [
    "```python \n",
    "RandomForestRegressor(max_depth=50, max_features='sqrt', min_samples_leaf=4,\n",
    "                      min_samples_split=10, n_estimators=800)\n",
    "```"
   ]
  },
  {
   "cell_type": "markdown",
   "id": "9e06b600",
   "metadata": {},
   "source": [
    "### find best for linear"
   ]
  },
  {
   "cell_type": "code",
   "execution_count": null,
   "id": "d1a18c40",
   "metadata": {},
   "outputs": [],
   "source": [
    "from sklearn import datasets\n",
    "from sklearn.model_selection import train_test_split\n",
    "from sklearn.model_selection import GridSearchCV\n",
    "from sklearn.ensemble import GradientBoostingRegressor"
   ]
  },
  {
   "cell_type": "code",
   "execution_count": null,
   "id": "4bf0e97f",
   "metadata": {},
   "outputs": [],
   "source": [
    "GBR = GradientBoostingRegressor()"
   ]
  },
  {
   "cell_type": "code",
   "execution_count": null,
   "id": "570a8f2c",
   "metadata": {},
   "outputs": [],
   "source": [
    "parameters = {'learning_rate': [0.01,0.02,0.03,0.04],\n",
    "              'subsample'    : [0.9, 0.5, 0.2, 0.1],\n",
    "              'n_estimators' : [100,500,1000, 1500],\n",
    "              'max_depth'    : [4,6,8,10]\n",
    "             }"
   ]
  },
  {
   "cell_type": "code",
   "execution_count": null,
   "id": "c1c8a1b2",
   "metadata": {
    "scrolled": true
   },
   "outputs": [],
   "source": [
    "grid_GBR = GridSearchCV(estimator=GBR, param_grid = parameters, cv = 2, n_jobs=-1)\n",
    "grid_GBR.fit(X_train, y_train)"
   ]
  },
  {
   "cell_type": "code",
   "execution_count": null,
   "id": "e1e6c514",
   "metadata": {
    "scrolled": true
   },
   "outputs": [],
   "source": [
    "print(\" Results from Grid Search \" )\n",
    "print(\"\\n The best estimator across ALL searched params:\\n\",grid_GBR.best_estimator_)\n",
    "print(\"\\n The best score across ALL searched params:\\n\",grid_GBR.best_score_)\n",
    "print(\"\\n The best parameters across ALL searched params:\\n\",grid_GBR.best_params_)"
   ]
  },
  {
   "cell_type": "code",
   "execution_count": null,
   "id": "6c42f61c",
   "metadata": {},
   "outputs": [],
   "source": [
    "grid_GBR_pred=grid_GBR.predict(X_val)\n",
    "plt.plot(grid_GBR_pred, label = 'Predictions')\n",
    "plt.plot(y_val, label='Actual sales')\n",
    "plt.legend(loc = 'upper left')\n",
    "plt.show()"
   ]
  },
  {
   "cell_type": "code",
   "execution_count": null,
   "id": "e72a8f2d",
   "metadata": {},
   "outputs": [],
   "source": [
    "rmse_linear= sqrt(mean_squared_error(grid_GBR_pred, y_val))\n",
    "rmse_linear"
   ]
  },
  {
   "cell_type": "code",
   "execution_count": null,
   "id": "7628e6b1",
   "metadata": {},
   "outputs": [],
   "source": [
    "import xgboost\n",
    "print(xgboost.__version__)"
   ]
  },
  {
   "cell_type": "markdown",
   "id": "11ccd862",
   "metadata": {},
   "source": [
    "# Model with Simple Average and Moving Average"
   ]
  },
  {
   "cell_type": "markdown",
   "id": "7dbf403c",
   "metadata": {},
   "source": [
    "### Simple Average"
   ]
  },
  {
   "cell_type": "code",
   "execution_count": 12,
   "id": "c35cd9e9",
   "metadata": {},
   "outputs": [],
   "source": []
  },
  {
   "cell_type": "code",
   "execution_count": 15,
   "id": "d3b4d3c0",
   "metadata": {},
   "outputs": [
    {
     "data": {
      "text/plain": [
       "(order_date\n",
       " 2018-01-02   4,532.00\n",
       " 2018-01-02   2,860.00\n",
       " 2018-01-02     187.04\n",
       " 2018-01-02     428.96\n",
       " 2018-01-02      63.36\n",
       "                ...   \n",
       " 2021-12-30   3,234.32\n",
       " 2021-12-30     495.00\n",
       " 2021-12-30     660.00\n",
       " 2021-12-31     342.87\n",
       " 2021-12-31     369.89\n",
       " Name: purchase_amount, Length: 235525, dtype: float64,\n",
       " order_date\n",
       " 2018-01-02   4,532.00\n",
       " 2018-01-02   2,860.00\n",
       " 2018-01-02     187.04\n",
       " 2018-01-02     428.96\n",
       " 2018-01-02      63.36\n",
       "                ...   \n",
       " 2021-12-30   3,234.32\n",
       " 2021-12-30     495.00\n",
       " 2021-12-30     660.00\n",
       " 2021-12-31     342.87\n",
       " 2021-12-31     369.89\n",
       " Name: purchase_amount, Length: 235525, dtype: float64,\n",
       " order_date\n",
       " 2022-01-01      872.56\n",
       " 2022-01-01   32,728.16\n",
       " 2022-01-01   98,250.00\n",
       " 2022-01-01    8,152.38\n",
       " 2022-01-01    2,237.84\n",
       "                 ...   \n",
       " 2022-11-25    2,469.24\n",
       " 2022-11-28      430.00\n",
       " 2022-11-28      525.78\n",
       " 2022-11-29      418.96\n",
       " 2022-11-29    1,376.48\n",
       " Name: purchase_amount, Length: 26361, dtype: float64,\n",
       " order_date\n",
       " 2022-01-01      872.56\n",
       " 2022-01-01   32,728.16\n",
       " 2022-01-01   98,250.00\n",
       " 2022-01-01    8,152.38\n",
       " 2022-01-01    2,237.84\n",
       "                 ...   \n",
       " 2022-11-25    2,469.24\n",
       " 2022-11-28      430.00\n",
       " 2022-11-28      525.78\n",
       " 2022-11-29      418.96\n",
       " 2022-11-29    1,376.48\n",
       " Name: purchase_amount, Length: 26361, dtype: float64)"
      ]
     },
     "execution_count": 15,
     "metadata": {},
     "output_type": "execute_result"
    }
   ],
   "source": []
  },
  {
   "cell_type": "code",
   "execution_count": null,
   "id": "169ad19a",
   "metadata": {},
   "outputs": [],
   "source": []
  },
  {
   "cell_type": "code",
   "execution_count": null,
   "id": "329ce5a4",
   "metadata": {},
   "outputs": [],
   "source": []
  },
  {
   "cell_type": "code",
   "execution_count": null,
   "id": "db8709f5",
   "metadata": {},
   "outputs": [],
   "source": []
  }
 ],
 "metadata": {
  "kernelspec": {
   "display_name": "Python 3 (ipykernel)",
   "language": "python",
   "name": "python3"
  },
  "language_info": {
   "codemirror_mode": {
    "name": "ipython",
    "version": 3
   },
   "file_extension": ".py",
   "mimetype": "text/x-python",
   "name": "python",
   "nbconvert_exporter": "python",
   "pygments_lexer": "ipython3",
   "version": "3.9.12"
  }
 },
 "nbformat": 4,
 "nbformat_minor": 5
}
